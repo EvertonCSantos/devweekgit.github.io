{
  "nbformat": 4,
  "nbformat_minor": 0,
  "metadata": {
    "colab": {
      "provenance": [],
      "collapsed_sections": [],
      "authorship_tag": "ABX9TyNBaA3HWWss8Pztyn1M2jsc",
      "include_colab_link": true
    },
    "kernelspec": {
      "name": "python3",
      "display_name": "Python 3"
    },
    "language_info": {
      "name": "python"
    }
  },
  "cells": [
    {
      "cell_type": "markdown",
      "metadata": {
        "id": "view-in-github",
        "colab_type": "text"
      },
      "source": [
        "<a href=\"https://colab.research.google.com/github/EvertonCSantos/devweekgit.github.io/blob/main/Teste_Bebida.ipynb\" target=\"_parent\"><img src=\"https://colab.research.google.com/assets/colab-badge.svg\" alt=\"Open In Colab\"/></a>"
      ]
    },
    {
      "cell_type": "code",
      "execution_count": 20,
      "metadata": {
        "colab": {
          "base_uri": "https://localhost:8080/"
        },
        "id": "XTduJ-oSmYnT",
        "outputId": "891ebe49-b2ad-4fb5-ae25-e05f5ffeebfd"
      },
      "outputs": [
        {
          "output_type": "stream",
          "name": "stdout",
          "text": [
            "Qual sua bebida favorita? whisky\n",
            "Qual o valor da bebida? 79.90\n",
            "Sua bebida possui alcool? Digitar sim ou não sim\n",
            "Minha bebida favoria é whisky, que custa 79.9 e é alcoólica\n"
          ]
        }
      ],
      "source": [
        "bebidaFavorita = str(input('Qual sua bebida favorita? '))\n",
        "bebidaValor = float(input('Qual o valor da bebida? '))\n",
        "bebidaTeor = (input('Sua bebida possui alcool? Digitar sim ou não '))\n",
        "if(bebidaTeor=='sim'):\n",
        "  print(f'Minha bebida favoria é {bebidaFavorita}, que custa {bebidaValor} e é alcoólica')\n",
        "else:\n",
        "  print(f'Minha bebida favoria é {bebidaFavorita}, que custa {bebidaValor} e não é alcoólica')"
      ]
    },
    {
      "cell_type": "code",
      "source": [
        "print"
      ],
      "metadata": {
        "id": "c6d4XeusnSN1"
      },
      "execution_count": null,
      "outputs": []
    }
  ]
}