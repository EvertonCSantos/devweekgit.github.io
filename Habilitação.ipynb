{
  "nbformat": 4,
  "nbformat_minor": 0,
  "metadata": {
    "colab": {
      "provenance": [],
      "collapsed_sections": [],
      "authorship_tag": "ABX9TyMKoOkZd9cJhfPR06115QeU",
      "include_colab_link": true
    },
    "kernelspec": {
      "name": "python3",
      "display_name": "Python 3"
    },
    "language_info": {
      "name": "python"
    }
  },
  "cells": [
    {
      "cell_type": "markdown",
      "metadata": {
        "id": "view-in-github",
        "colab_type": "text"
      },
      "source": [
        "<a href=\"https://colab.research.google.com/github/EvertonCSantos/devweekgit.github.io/blob/main/Habilita%C3%A7%C3%A3o.ipynb\" target=\"_parent\"><img src=\"https://colab.research.google.com/assets/colab-badge.svg\" alt=\"Open In Colab\"/></a>"
      ]
    },
    {
      "cell_type": "code",
      "execution_count": 8,
      "metadata": {
        "colab": {
          "base_uri": "https://localhost:8080/"
        },
        "id": "jRjSCuGGiqFZ",
        "outputId": "bf6a11c2-70a7-4eb2-cdb2-b884fdb37575"
      },
      "outputs": [
        {
          "output_type": "stream",
          "name": "stdout",
          "text": [
            "Quantas rodas tem o veiculo? 4\n",
            "Qual o peso do veiculo? 6004\n",
            "Quantas pessoas vão no veiculo? 6\n",
            "A melhor categoria de habilitação conforme dados informados é E\n"
          ]
        }
      ],
      "source": [
        "quantidade_rodas = int(input('Quantas rodas tem o veiculo? '))\n",
        "peso_bruto = float(input('Qual o peso do veiculo? '))\n",
        "pessoas_qt = int(input('Quantas pessoas vão no veiculo? '))\n",
        "\n",
        "if quantidade_rodas == 2 or quantidade_rodas == 3:\n",
        "  habilitacao = \"A\"\n",
        "elif quantidade_rodas == 4 and pessoas_qt <=8 and peso_bruto <= 3500:\n",
        "  habilitacao = \"B\"\n",
        "elif quantidade_rodas >= 4 and peso_bruto >= 3500 and peso_bruto <= 6000:\n",
        "  habilitacao = \"C\"\n",
        "elif quantidade_rodas >= 4 and pessoas_qt > 8:\n",
        "  habilitacao = \"D\"\n",
        "elif quantidade_rodas >= 4 and peso_bruto > 6000:\n",
        "  habilitacao = \"E\"\n",
        "\n",
        "print(f'A melhor categoria de habilitação conforme dados informados é {habilitacao}')"
      ]
    }
  ]
}