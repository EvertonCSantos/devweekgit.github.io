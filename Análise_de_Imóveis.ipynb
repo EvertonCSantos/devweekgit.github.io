{
  "nbformat": 4,
  "nbformat_minor": 0,
  "metadata": {
    "colab": {
      "provenance": [],
      "authorship_tag": "ABX9TyMM3BMdplybzdro0/g4xVKh",
      "include_colab_link": true
    },
    "kernelspec": {
      "name": "python3",
      "display_name": "Python 3"
    },
    "language_info": {
      "name": "python"
    }
  },
  "cells": [
    {
      "cell_type": "markdown",
      "metadata": {
        "id": "view-in-github",
        "colab_type": "text"
      },
      "source": [
        "<a href=\"https://colab.research.google.com/github/EvertonCSantos/devweekgit.github.io/blob/main/An%C3%A1lise_de_Im%C3%B3veis.ipynb\" target=\"_parent\"><img src=\"https://colab.research.google.com/assets/colab-badge.svg\" alt=\"Open In Colab\"/></a>"
      ]
    },
    {
      "cell_type": "code",
      "execution_count": 1,
      "metadata": {
        "id": "4MDy72t1Qff7"
      },
      "outputs": [],
      "source": [
        "import pandas as pd"
      ]
    },
    {
      "cell_type": "code",
      "source": [
        "imoveis = pd.read_excel('/content/Imóveis.xlsx')\n",
        "imoveis"
      ],
      "metadata": {
        "colab": {
          "base_uri": "https://localhost:8080/",
          "height": 424
        },
        "id": "T3Tx2PTwQ5hQ",
        "outputId": "f5a16202-8859-402f-9375-c02dd6b54ac5"
      },
      "execution_count": 2,
      "outputs": [
        {
          "output_type": "execute_result",
          "data": {
            "text/plain": [
              "      CODIGO   AREA       PRECO\n",
              "0    AP00001  243.0   877478.17\n",
              "1    AP00002  228.0   829486.89\n",
              "2    AP00003   65.0   301450.09\n",
              "3    AP00004   87.0   482732.85\n",
              "4    AP00005  102.0   320310.70\n",
              "..       ...    ...         ...\n",
              "636  AP00637   59.0   320342.98\n",
              "637  AP00638  416.0  1816146.48\n",
              "638  AP00639  177.0   729430.57\n",
              "639  AP00640   64.0   286202.84\n",
              "640  AP00641  130.0   491413.50\n",
              "\n",
              "[641 rows x 3 columns]"
            ],
            "text/html": [
              "\n",
              "  <div id=\"df-a483e191-9c60-4ed3-93c2-7f73cc79b5b7\">\n",
              "    <div class=\"colab-df-container\">\n",
              "      <div>\n",
              "<style scoped>\n",
              "    .dataframe tbody tr th:only-of-type {\n",
              "        vertical-align: middle;\n",
              "    }\n",
              "\n",
              "    .dataframe tbody tr th {\n",
              "        vertical-align: top;\n",
              "    }\n",
              "\n",
              "    .dataframe thead th {\n",
              "        text-align: right;\n",
              "    }\n",
              "</style>\n",
              "<table border=\"1\" class=\"dataframe\">\n",
              "  <thead>\n",
              "    <tr style=\"text-align: right;\">\n",
              "      <th></th>\n",
              "      <th>CODIGO</th>\n",
              "      <th>AREA</th>\n",
              "      <th>PRECO</th>\n",
              "    </tr>\n",
              "  </thead>\n",
              "  <tbody>\n",
              "    <tr>\n",
              "      <th>0</th>\n",
              "      <td>AP00001</td>\n",
              "      <td>243.0</td>\n",
              "      <td>877478.17</td>\n",
              "    </tr>\n",
              "    <tr>\n",
              "      <th>1</th>\n",
              "      <td>AP00002</td>\n",
              "      <td>228.0</td>\n",
              "      <td>829486.89</td>\n",
              "    </tr>\n",
              "    <tr>\n",
              "      <th>2</th>\n",
              "      <td>AP00003</td>\n",
              "      <td>65.0</td>\n",
              "      <td>301450.09</td>\n",
              "    </tr>\n",
              "    <tr>\n",
              "      <th>3</th>\n",
              "      <td>AP00004</td>\n",
              "      <td>87.0</td>\n",
              "      <td>482732.85</td>\n",
              "    </tr>\n",
              "    <tr>\n",
              "      <th>4</th>\n",
              "      <td>AP00005</td>\n",
              "      <td>102.0</td>\n",
              "      <td>320310.70</td>\n",
              "    </tr>\n",
              "    <tr>\n",
              "      <th>...</th>\n",
              "      <td>...</td>\n",
              "      <td>...</td>\n",
              "      <td>...</td>\n",
              "    </tr>\n",
              "    <tr>\n",
              "      <th>636</th>\n",
              "      <td>AP00637</td>\n",
              "      <td>59.0</td>\n",
              "      <td>320342.98</td>\n",
              "    </tr>\n",
              "    <tr>\n",
              "      <th>637</th>\n",
              "      <td>AP00638</td>\n",
              "      <td>416.0</td>\n",
              "      <td>1816146.48</td>\n",
              "    </tr>\n",
              "    <tr>\n",
              "      <th>638</th>\n",
              "      <td>AP00639</td>\n",
              "      <td>177.0</td>\n",
              "      <td>729430.57</td>\n",
              "    </tr>\n",
              "    <tr>\n",
              "      <th>639</th>\n",
              "      <td>AP00640</td>\n",
              "      <td>64.0</td>\n",
              "      <td>286202.84</td>\n",
              "    </tr>\n",
              "    <tr>\n",
              "      <th>640</th>\n",
              "      <td>AP00641</td>\n",
              "      <td>130.0</td>\n",
              "      <td>491413.50</td>\n",
              "    </tr>\n",
              "  </tbody>\n",
              "</table>\n",
              "<p>641 rows × 3 columns</p>\n",
              "</div>\n",
              "      <button class=\"colab-df-convert\" onclick=\"convertToInteractive('df-a483e191-9c60-4ed3-93c2-7f73cc79b5b7')\"\n",
              "              title=\"Convert this dataframe to an interactive table.\"\n",
              "              style=\"display:none;\">\n",
              "        \n",
              "  <svg xmlns=\"http://www.w3.org/2000/svg\" height=\"24px\"viewBox=\"0 0 24 24\"\n",
              "       width=\"24px\">\n",
              "    <path d=\"M0 0h24v24H0V0z\" fill=\"none\"/>\n",
              "    <path d=\"M18.56 5.44l.94 2.06.94-2.06 2.06-.94-2.06-.94-.94-2.06-.94 2.06-2.06.94zm-11 1L8.5 8.5l.94-2.06 2.06-.94-2.06-.94L8.5 2.5l-.94 2.06-2.06.94zm10 10l.94 2.06.94-2.06 2.06-.94-2.06-.94-.94-2.06-.94 2.06-2.06.94z\"/><path d=\"M17.41 7.96l-1.37-1.37c-.4-.4-.92-.59-1.43-.59-.52 0-1.04.2-1.43.59L10.3 9.45l-7.72 7.72c-.78.78-.78 2.05 0 2.83L4 21.41c.39.39.9.59 1.41.59.51 0 1.02-.2 1.41-.59l7.78-7.78 2.81-2.81c.8-.78.8-2.07 0-2.86zM5.41 20L4 18.59l7.72-7.72 1.47 1.35L5.41 20z\"/>\n",
              "  </svg>\n",
              "      </button>\n",
              "      \n",
              "  <style>\n",
              "    .colab-df-container {\n",
              "      display:flex;\n",
              "      flex-wrap:wrap;\n",
              "      gap: 12px;\n",
              "    }\n",
              "\n",
              "    .colab-df-convert {\n",
              "      background-color: #E8F0FE;\n",
              "      border: none;\n",
              "      border-radius: 50%;\n",
              "      cursor: pointer;\n",
              "      display: none;\n",
              "      fill: #1967D2;\n",
              "      height: 32px;\n",
              "      padding: 0 0 0 0;\n",
              "      width: 32px;\n",
              "    }\n",
              "\n",
              "    .colab-df-convert:hover {\n",
              "      background-color: #E2EBFA;\n",
              "      box-shadow: 0px 1px 2px rgba(60, 64, 67, 0.3), 0px 1px 3px 1px rgba(60, 64, 67, 0.15);\n",
              "      fill: #174EA6;\n",
              "    }\n",
              "\n",
              "    [theme=dark] .colab-df-convert {\n",
              "      background-color: #3B4455;\n",
              "      fill: #D2E3FC;\n",
              "    }\n",
              "\n",
              "    [theme=dark] .colab-df-convert:hover {\n",
              "      background-color: #434B5C;\n",
              "      box-shadow: 0px 1px 3px 1px rgba(0, 0, 0, 0.15);\n",
              "      filter: drop-shadow(0px 1px 2px rgba(0, 0, 0, 0.3));\n",
              "      fill: #FFFFFF;\n",
              "    }\n",
              "  </style>\n",
              "\n",
              "      <script>\n",
              "        const buttonEl =\n",
              "          document.querySelector('#df-a483e191-9c60-4ed3-93c2-7f73cc79b5b7 button.colab-df-convert');\n",
              "        buttonEl.style.display =\n",
              "          google.colab.kernel.accessAllowed ? 'block' : 'none';\n",
              "\n",
              "        async function convertToInteractive(key) {\n",
              "          const element = document.querySelector('#df-a483e191-9c60-4ed3-93c2-7f73cc79b5b7');\n",
              "          const dataTable =\n",
              "            await google.colab.kernel.invokeFunction('convertToInteractive',\n",
              "                                                     [key], {});\n",
              "          if (!dataTable) return;\n",
              "\n",
              "          const docLinkHtml = 'Like what you see? Visit the ' +\n",
              "            '<a target=\"_blank\" href=https://colab.research.google.com/notebooks/data_table.ipynb>data table notebook</a>'\n",
              "            + ' to learn more about interactive tables.';\n",
              "          element.innerHTML = '';\n",
              "          dataTable['output_type'] = 'display_data';\n",
              "          await google.colab.output.renderOutput(dataTable, element);\n",
              "          const docLink = document.createElement('div');\n",
              "          docLink.innerHTML = docLinkHtml;\n",
              "          element.appendChild(docLink);\n",
              "        }\n",
              "      </script>\n",
              "    </div>\n",
              "  </div>\n",
              "  "
            ]
          },
          "metadata": {},
          "execution_count": 2
        }
      ]
    },
    {
      "cell_type": "code",
      "source": [
        "imoveis['PRECO'].sum()"
      ],
      "metadata": {
        "colab": {
          "base_uri": "https://localhost:8080/"
        },
        "id": "TP9hFyW3Rwd1",
        "outputId": "7f0d8bcc-457b-48e5-d9f7-0513c22022d0"
      },
      "execution_count": 7,
      "outputs": [
        {
          "output_type": "execute_result",
          "data": {
            "text/plain": [
              "413773430.75"
            ]
          },
          "metadata": {},
          "execution_count": 7
        }
      ]
    },
    {
      "cell_type": "code",
      "source": [
        "imoveis['PRECO'].mean()"
      ],
      "metadata": {
        "colab": {
          "base_uri": "https://localhost:8080/"
        },
        "id": "60vIqySsSfuv",
        "outputId": "46ef7098-1a22-4ec0-932d-324342751328"
      },
      "execution_count": 6,
      "outputs": [
        {
          "output_type": "execute_result",
          "data": {
            "text/plain": [
              "645512.3724648986"
            ]
          },
          "metadata": {},
          "execution_count": 6
        }
      ]
    },
    {
      "cell_type": "code",
      "source": [
        "imoveis.loc[( imoveis['CODIGO'] == 'AP00100')]"
      ],
      "metadata": {
        "colab": {
          "base_uri": "https://localhost:8080/",
          "height": 81
        },
        "id": "IGAo-B7vTJK7",
        "outputId": "7c00d809-e13a-4afb-c59c-4014eff760b7"
      },
      "execution_count": 8,
      "outputs": [
        {
          "output_type": "execute_result",
          "data": {
            "text/plain": [
              "     CODIGO  AREA      PRECO\n",
              "99  AP00100  44.0  160923.27"
            ],
            "text/html": [
              "\n",
              "  <div id=\"df-703eb905-f880-4bee-81e3-f530d467b3d5\">\n",
              "    <div class=\"colab-df-container\">\n",
              "      <div>\n",
              "<style scoped>\n",
              "    .dataframe tbody tr th:only-of-type {\n",
              "        vertical-align: middle;\n",
              "    }\n",
              "\n",
              "    .dataframe tbody tr th {\n",
              "        vertical-align: top;\n",
              "    }\n",
              "\n",
              "    .dataframe thead th {\n",
              "        text-align: right;\n",
              "    }\n",
              "</style>\n",
              "<table border=\"1\" class=\"dataframe\">\n",
              "  <thead>\n",
              "    <tr style=\"text-align: right;\">\n",
              "      <th></th>\n",
              "      <th>CODIGO</th>\n",
              "      <th>AREA</th>\n",
              "      <th>PRECO</th>\n",
              "    </tr>\n",
              "  </thead>\n",
              "  <tbody>\n",
              "    <tr>\n",
              "      <th>99</th>\n",
              "      <td>AP00100</td>\n",
              "      <td>44.0</td>\n",
              "      <td>160923.27</td>\n",
              "    </tr>\n",
              "  </tbody>\n",
              "</table>\n",
              "</div>\n",
              "      <button class=\"colab-df-convert\" onclick=\"convertToInteractive('df-703eb905-f880-4bee-81e3-f530d467b3d5')\"\n",
              "              title=\"Convert this dataframe to an interactive table.\"\n",
              "              style=\"display:none;\">\n",
              "        \n",
              "  <svg xmlns=\"http://www.w3.org/2000/svg\" height=\"24px\"viewBox=\"0 0 24 24\"\n",
              "       width=\"24px\">\n",
              "    <path d=\"M0 0h24v24H0V0z\" fill=\"none\"/>\n",
              "    <path d=\"M18.56 5.44l.94 2.06.94-2.06 2.06-.94-2.06-.94-.94-2.06-.94 2.06-2.06.94zm-11 1L8.5 8.5l.94-2.06 2.06-.94-2.06-.94L8.5 2.5l-.94 2.06-2.06.94zm10 10l.94 2.06.94-2.06 2.06-.94-2.06-.94-.94-2.06-.94 2.06-2.06.94z\"/><path d=\"M17.41 7.96l-1.37-1.37c-.4-.4-.92-.59-1.43-.59-.52 0-1.04.2-1.43.59L10.3 9.45l-7.72 7.72c-.78.78-.78 2.05 0 2.83L4 21.41c.39.39.9.59 1.41.59.51 0 1.02-.2 1.41-.59l7.78-7.78 2.81-2.81c.8-.78.8-2.07 0-2.86zM5.41 20L4 18.59l7.72-7.72 1.47 1.35L5.41 20z\"/>\n",
              "  </svg>\n",
              "      </button>\n",
              "      \n",
              "  <style>\n",
              "    .colab-df-container {\n",
              "      display:flex;\n",
              "      flex-wrap:wrap;\n",
              "      gap: 12px;\n",
              "    }\n",
              "\n",
              "    .colab-df-convert {\n",
              "      background-color: #E8F0FE;\n",
              "      border: none;\n",
              "      border-radius: 50%;\n",
              "      cursor: pointer;\n",
              "      display: none;\n",
              "      fill: #1967D2;\n",
              "      height: 32px;\n",
              "      padding: 0 0 0 0;\n",
              "      width: 32px;\n",
              "    }\n",
              "\n",
              "    .colab-df-convert:hover {\n",
              "      background-color: #E2EBFA;\n",
              "      box-shadow: 0px 1px 2px rgba(60, 64, 67, 0.3), 0px 1px 3px 1px rgba(60, 64, 67, 0.15);\n",
              "      fill: #174EA6;\n",
              "    }\n",
              "\n",
              "    [theme=dark] .colab-df-convert {\n",
              "      background-color: #3B4455;\n",
              "      fill: #D2E3FC;\n",
              "    }\n",
              "\n",
              "    [theme=dark] .colab-df-convert:hover {\n",
              "      background-color: #434B5C;\n",
              "      box-shadow: 0px 1px 3px 1px rgba(0, 0, 0, 0.15);\n",
              "      filter: drop-shadow(0px 1px 2px rgba(0, 0, 0, 0.3));\n",
              "      fill: #FFFFFF;\n",
              "    }\n",
              "  </style>\n",
              "\n",
              "      <script>\n",
              "        const buttonEl =\n",
              "          document.querySelector('#df-703eb905-f880-4bee-81e3-f530d467b3d5 button.colab-df-convert');\n",
              "        buttonEl.style.display =\n",
              "          google.colab.kernel.accessAllowed ? 'block' : 'none';\n",
              "\n",
              "        async function convertToInteractive(key) {\n",
              "          const element = document.querySelector('#df-703eb905-f880-4bee-81e3-f530d467b3d5');\n",
              "          const dataTable =\n",
              "            await google.colab.kernel.invokeFunction('convertToInteractive',\n",
              "                                                     [key], {});\n",
              "          if (!dataTable) return;\n",
              "\n",
              "          const docLinkHtml = 'Like what you see? Visit the ' +\n",
              "            '<a target=\"_blank\" href=https://colab.research.google.com/notebooks/data_table.ipynb>data table notebook</a>'\n",
              "            + ' to learn more about interactive tables.';\n",
              "          element.innerHTML = '';\n",
              "          dataTable['output_type'] = 'display_data';\n",
              "          await google.colab.output.renderOutput(dataTable, element);\n",
              "          const docLink = document.createElement('div');\n",
              "          docLink.innerHTML = docLinkHtml;\n",
              "          element.appendChild(docLink);\n",
              "        }\n",
              "      </script>\n",
              "    </div>\n",
              "  </div>\n",
              "  "
            ]
          },
          "metadata": {},
          "execution_count": 8
        }
      ]
    },
    {
      "cell_type": "code",
      "source": [
        "imoveis.loc[ (imoveis['AREA'] > 450) & (imoveis['PRECO'] < 2000000)]"
      ],
      "metadata": {
        "colab": {
          "base_uri": "https://localhost:8080/",
          "height": 112
        },
        "id": "iufQj9dWUG1D",
        "outputId": "d50aa89b-4ec6-4abb-d71e-06ceeec3ce86"
      },
      "execution_count": 11,
      "outputs": [
        {
          "output_type": "execute_result",
          "data": {
            "text/plain": [
              "      CODIGO   AREA       PRECO\n",
              "395  AP00396  490.0  1979277.22\n",
              "426  AP00427  453.0  1657040.43"
            ],
            "text/html": [
              "\n",
              "  <div id=\"df-e4a14e0b-f1b8-43ea-aab5-1dffbc7bfa0a\">\n",
              "    <div class=\"colab-df-container\">\n",
              "      <div>\n",
              "<style scoped>\n",
              "    .dataframe tbody tr th:only-of-type {\n",
              "        vertical-align: middle;\n",
              "    }\n",
              "\n",
              "    .dataframe tbody tr th {\n",
              "        vertical-align: top;\n",
              "    }\n",
              "\n",
              "    .dataframe thead th {\n",
              "        text-align: right;\n",
              "    }\n",
              "</style>\n",
              "<table border=\"1\" class=\"dataframe\">\n",
              "  <thead>\n",
              "    <tr style=\"text-align: right;\">\n",
              "      <th></th>\n",
              "      <th>CODIGO</th>\n",
              "      <th>AREA</th>\n",
              "      <th>PRECO</th>\n",
              "    </tr>\n",
              "  </thead>\n",
              "  <tbody>\n",
              "    <tr>\n",
              "      <th>395</th>\n",
              "      <td>AP00396</td>\n",
              "      <td>490.0</td>\n",
              "      <td>1979277.22</td>\n",
              "    </tr>\n",
              "    <tr>\n",
              "      <th>426</th>\n",
              "      <td>AP00427</td>\n",
              "      <td>453.0</td>\n",
              "      <td>1657040.43</td>\n",
              "    </tr>\n",
              "  </tbody>\n",
              "</table>\n",
              "</div>\n",
              "      <button class=\"colab-df-convert\" onclick=\"convertToInteractive('df-e4a14e0b-f1b8-43ea-aab5-1dffbc7bfa0a')\"\n",
              "              title=\"Convert this dataframe to an interactive table.\"\n",
              "              style=\"display:none;\">\n",
              "        \n",
              "  <svg xmlns=\"http://www.w3.org/2000/svg\" height=\"24px\"viewBox=\"0 0 24 24\"\n",
              "       width=\"24px\">\n",
              "    <path d=\"M0 0h24v24H0V0z\" fill=\"none\"/>\n",
              "    <path d=\"M18.56 5.44l.94 2.06.94-2.06 2.06-.94-2.06-.94-.94-2.06-.94 2.06-2.06.94zm-11 1L8.5 8.5l.94-2.06 2.06-.94-2.06-.94L8.5 2.5l-.94 2.06-2.06.94zm10 10l.94 2.06.94-2.06 2.06-.94-2.06-.94-.94-2.06-.94 2.06-2.06.94z\"/><path d=\"M17.41 7.96l-1.37-1.37c-.4-.4-.92-.59-1.43-.59-.52 0-1.04.2-1.43.59L10.3 9.45l-7.72 7.72c-.78.78-.78 2.05 0 2.83L4 21.41c.39.39.9.59 1.41.59.51 0 1.02-.2 1.41-.59l7.78-7.78 2.81-2.81c.8-.78.8-2.07 0-2.86zM5.41 20L4 18.59l7.72-7.72 1.47 1.35L5.41 20z\"/>\n",
              "  </svg>\n",
              "      </button>\n",
              "      \n",
              "  <style>\n",
              "    .colab-df-container {\n",
              "      display:flex;\n",
              "      flex-wrap:wrap;\n",
              "      gap: 12px;\n",
              "    }\n",
              "\n",
              "    .colab-df-convert {\n",
              "      background-color: #E8F0FE;\n",
              "      border: none;\n",
              "      border-radius: 50%;\n",
              "      cursor: pointer;\n",
              "      display: none;\n",
              "      fill: #1967D2;\n",
              "      height: 32px;\n",
              "      padding: 0 0 0 0;\n",
              "      width: 32px;\n",
              "    }\n",
              "\n",
              "    .colab-df-convert:hover {\n",
              "      background-color: #E2EBFA;\n",
              "      box-shadow: 0px 1px 2px rgba(60, 64, 67, 0.3), 0px 1px 3px 1px rgba(60, 64, 67, 0.15);\n",
              "      fill: #174EA6;\n",
              "    }\n",
              "\n",
              "    [theme=dark] .colab-df-convert {\n",
              "      background-color: #3B4455;\n",
              "      fill: #D2E3FC;\n",
              "    }\n",
              "\n",
              "    [theme=dark] .colab-df-convert:hover {\n",
              "      background-color: #434B5C;\n",
              "      box-shadow: 0px 1px 3px 1px rgba(0, 0, 0, 0.15);\n",
              "      filter: drop-shadow(0px 1px 2px rgba(0, 0, 0, 0.3));\n",
              "      fill: #FFFFFF;\n",
              "    }\n",
              "  </style>\n",
              "\n",
              "      <script>\n",
              "        const buttonEl =\n",
              "          document.querySelector('#df-e4a14e0b-f1b8-43ea-aab5-1dffbc7bfa0a button.colab-df-convert');\n",
              "        buttonEl.style.display =\n",
              "          google.colab.kernel.accessAllowed ? 'block' : 'none';\n",
              "\n",
              "        async function convertToInteractive(key) {\n",
              "          const element = document.querySelector('#df-e4a14e0b-f1b8-43ea-aab5-1dffbc7bfa0a');\n",
              "          const dataTable =\n",
              "            await google.colab.kernel.invokeFunction('convertToInteractive',\n",
              "                                                     [key], {});\n",
              "          if (!dataTable) return;\n",
              "\n",
              "          const docLinkHtml = 'Like what you see? Visit the ' +\n",
              "            '<a target=\"_blank\" href=https://colab.research.google.com/notebooks/data_table.ipynb>data table notebook</a>'\n",
              "            + ' to learn more about interactive tables.';\n",
              "          element.innerHTML = '';\n",
              "          dataTable['output_type'] = 'display_data';\n",
              "          await google.colab.output.renderOutput(dataTable, element);\n",
              "          const docLink = document.createElement('div');\n",
              "          docLink.innerHTML = docLinkHtml;\n",
              "          element.appendChild(docLink);\n",
              "        }\n",
              "      </script>\n",
              "    </div>\n",
              "  </div>\n",
              "  "
            ]
          },
          "metadata": {},
          "execution_count": 11
        }
      ]
    },
    {
      "cell_type": "code",
      "source": [
        "import plotly.express as px"
      ],
      "metadata": {
        "id": "PxEc88OeU_HY"
      },
      "execution_count": 12,
      "outputs": []
    },
    {
      "cell_type": "code",
      "source": [
        "x = imoveis['PRECO']\n",
        "y = imoveis['AREA']"
      ],
      "metadata": {
        "id": "4MgKAiksWTpU"
      },
      "execution_count": 13,
      "outputs": []
    },
    {
      "cell_type": "code",
      "source": [
        "px.scatter (imoveis, x, y)"
      ],
      "metadata": {
        "colab": {
          "base_uri": "https://localhost:8080/",
          "height": 542
        },
        "id": "NGAaXkQVWwUt",
        "outputId": "bcdbf2eb-1c06-416f-890e-004c0704db33"
      },
      "execution_count": 14,
      "outputs": [
        {
          "output_type": "display_data",
          "data": {
            "text/html": [
              "<html>\n",
              "<head><meta charset=\"utf-8\" /></head>\n",
              "<body>\n",
              "    <div>            <script src=\"https://cdnjs.cloudflare.com/ajax/libs/mathjax/2.7.5/MathJax.js?config=TeX-AMS-MML_SVG\"></script><script type=\"text/javascript\">if (window.MathJax) {MathJax.Hub.Config({SVG: {font: \"STIX-Web\"}});}</script>                <script type=\"text/javascript\">window.PlotlyConfig = {MathJaxConfig: 'local'};</script>\n",
              "        <script src=\"https://cdn.plot.ly/plotly-2.8.3.min.js\"></script>                <div id=\"7eb066a4-fc78-4d10-9a64-dae56b2f0a32\" class=\"plotly-graph-div\" style=\"height:525px; width:100%;\"></div>            <script type=\"text/javascript\">                                    window.PLOTLYENV=window.PLOTLYENV || {};                                    if (document.getElementById(\"7eb066a4-fc78-4d10-9a64-dae56b2f0a32\")) {                    Plotly.newPlot(                        \"7eb066a4-fc78-4d10-9a64-dae56b2f0a32\",                        [{\"hovertemplate\":\"PRECO=%{x}<br>AREA=%{y}<extra></extra>\",\"legendgroup\":\"\",\"marker\":{\"color\":\"#636efa\",\"symbol\":\"circle\"},\"mode\":\"markers\",\"name\":\"\",\"orientation\":\"v\",\"showlegend\":false,\"x\":[877478.17,829486.89,301450.09,482732.85,320310.7,532921.74,224725.8,502012.0,661220.95,484865.91,774708.2,317237.56,718963.82,274021.46,1809490.4,354346.51,251717.28,395788.13,220934.22,592374.17,1433761.77,362613.77,356815.35,2421263.05,998134.49,316290.26,602892.92,178999.97,401840.96,439854.72,232019.57,502388.86,1042101.69,432126.71,267738.82,349608.73,512475.13,364896.06,1956793.66,636556.92,677663.78,1454987.26,178103.19,471048.46,1115103.7,220945.54,394925.73,379850.35,386751.96,482929.86,666575.0,295857.97,314688.6,1305126.53,394988.08,689708.29,2325343.27,379001.84,371666.33,549177.01,504301.87,408084.92,1467109.48,321223.55,311840.95,1182177.14,400953.02,642837.31,319559.42,343415.01,350717.51,549173.66,1047242.98,1823576.1,932895.07,316699.87,516774.33,2327565.05,510815.1,512560.55,822219.36,455156.34,804318.02,439982.3,581346.42,476768.49,542339.3,438001.56,223140.92,441991.87,2043561.32,245067.02,328783.72,294484.44,267954.93,311563.75,1175965.28,370093.13,449678.06,160923.27,414990.75,745207.06,364380.79,322404.23,492948.3,195940.97,1740836.36,479995.5,228929.25,1645455.36,456920.93,205303.75,538273.78,369526.8,511721.83,492434.96,909585.58,432915.98,586920.42,398579.4,1177102.38,746009.67,276974.21,718429.36,1246083.29,310999.4,322523.13,446361.21,1278262.27,531809.57,308862.43,1220433.28,714276.55,263531.56,331539.17,388478.55,239793.03,904442.91,436717.98,370998.32,279197.96,500483.62,1378094.06,443940.0,771517.56,517208.69,603049.25,943679.12,869287.64,435037.47,365556.55,645676.58,534253.12,990204.51,206982.68,847350.23,380469.82,236056.27,330455.78,918851.9,321800.88,687256.49,559502.5,388274.91,444029.15,959889.94,398367.07,660700.29,589157.98,505356.16,1184195.81,576641.73,349309.2,451022.71,504011.89,658167.83,774712.29,664964.91,807095.72,1198370.86,181092.68,1113378.08,547750.74,424098.79,278238.02,418400.51,466940.22,383127.95,343696.09,362936.72,498850.65,349193.31,254364.07,1440641.98,293035.37,344652.8,327847.02,501501.53,480891.64,226724.53,844678.28,306209.83,835461.63,1015795.15,603416.09,533739.8,603341.61,337813.2,269237.01,2250939.65,648563.45,698726.6,363505.27,194021.94,245402.22,1000932.45,506718.54,299040.99,1983902.29,642883.0,1367553.08,259351.59,182437.08,459467.15,1557863.0,305543.27,1485622.67,630048.42,383266.23,241767.58,593253.72,1148378.43,505488.42,555091.79,360617.96,567997.1,973903.93,330152.71,166739.39,591920.0,228449.36,127866.74,964342.46,640513.11,396941.76,272709.92,448823.7,938637.97,1169450.3,280545.42,400662.52,747389.92,1191406.44,330704.16,681558.7,406754.48,718696.43,1101816.72,1677087.84,434431.2,486120.98,1505105.9,377786.54,546158.6,2128836.09,193980.14,790014.79,306631.22,267587.12,843217.34,284708.4,371400.98,1313642.58,1075227.23,463798.3,274073.6,534638.35,254214.45,233863.52,444461.66,791335.07,306301.47,527989.05,581093.85,2204044.7,2122597.91,1081178.05,377032.47,351082.39,748176.17,587844.36,355261.94,173988.25,412969.92,794448.16,362046.07,1384136.66,262359.38,472092.03,383200.78,181090.9,1083696.2,399134.97,655584.08,1478316.73,494855.12,839841.14,264019.29,1288037.94,528037.87,1582533.28,561112.1,312701.8,511271.83,443399.0,211352.89,233610.83,336526.61,835267.95,598425.52,2018106.22,633719.36,232508.74,595523.48,302992.33,583515.23,1266046.11,1290153.55,1417784.39,1238072.68,507265.92,1160710.68,980641.78,201863.31,214649.03,479091.57,243760.63,433491.14,732384.2,254361.18,1130617.37,1857972.58,2188164.41,299053.2,1095301.44,391339.7,1917015.66,974680.78,356148.39,1537970.28,478684.44,391002.84,539597.25,332369.65,1606542.13,901434.12,255950.47,1022543.02,253216.76,1938169.61,583198.0,417435.91,1215030.76,358156.74,478643.58,537081.75,1073531.52,308410.94,242783.85,434022.14,571546.61,1217394.59,315169.33,228786.99,1184634.99,1370088.27,256416.2,241255.98,360289.33,352920.94,291335.62,408712.27,676415.03,509199.17,1084215.82,309998.12,2157741.4,206777.71,1174349.53,1007957.58,1272063.76,484731.98,476078.04,1145011.23,209406.57,1979277.22,931826.53,340025.84,468922.35,1014894.53,237137.57,697205.8,1048148.37,248420.71,436487.61,357703.6,242041.5,531338.28,858620.83,349027.71,556607.17,818161.46,309118.17,725365.72,386508.37,210116.03,373941.48,202899.1,754961.02,562734.91,579106.91,1292539.93,328175.82,1672937.37,449068.18,384984.51,1657040.43,238384.25,1226013.81,250743.7,1542264.36,1330327.62,522381.68,550255.48,2246800.11,902688.44,474813.51,680297.61,1321224.95,541892.91,1172217.53,348319.33,288217.17,229890.39,184146.82,741519.2,664570.86,815290.15,420554.47,643362.93,1038977.17,1219667.96,294335.57,431369.85,426114.68,499226.26,342706.09,181347.43,227323.31,231650.41,498831.72,663612.42,933057.49,250052.93,585907.36,333642.67,545561.57,233798.53,446015.73,152141.28,1320432.14,443282.7,741182.49,575065.14,232444.73,366114.71,681774.8,1161896.9,385726.07,412192.84,261894.96,367980.48,678304.19,167836.73,1394992.97,1218153.81,402612.87,1299424.1,547827.57,980988.06,321646.26,1423405.36,230811.84,172995.23,497599.02,1074225.19,466591.55,2003490.86,975435.61,193980.14,217501.66,811718.76,309877.02,823114.06,991951.14,1673911.23,364721.13,477607.04,239262.74,1024521.28,1160699.35,277542.45,667987.42,660156.23,516320.31,450470.76,1119234.83,205273.79,306922.01,1153942.66,316350.33,477408.86,373824.05,385548.83,994703.74,321846.54,265617.12,1010912.99,648574.55,474743.63,1336890.29,130724.02,508003.73,464127.58,576296.86,881395.27,339443.69,234869.67,741519.2,1596075.72,343643.7,881444.7,412234.46,374267.72,291346.25,662234.76,445320.38,219011.77,339131.36,231592.46,264028.96,322384.12,438671.88,345787.07,2709543.36,306570.39,1299827.35,712660.21,992634.33,298526.88,234782.86,346276.96,528217.38,311782.98,638603.87,770219.45,1328789.48,387073.82,1298444.11,806738.48,414727.65,911385.23,361410.31,1177451.45,199894.04,472551.77,259265.27,460356.31,493725.93,239245.51,320241.29,377840.57,363678.32,321800.88,1174067.94,443597.07,368735.3,322252.67,160029.25,1753395.2,1218104.94,467326.49,235402.91,1030482.08,295252.31,999804.07,226555.62,449583.5,359859.61,697684.32,629410.14,298265.58,347864.15,425497.29,258352.78,1055847.84,230107.92,820422.12,253104.62,546171.04,206427.27,384760.75,792228.25,974390.99,258283.23,653607.55,1937785.61,480827.8,244708.15,170556.43,446127.9,329307.74,470096.37,1487924.32,217884.3,1319064.98,653335.07,527569.93,1593490.67,721845.98,1012840.88,677505.56,402174.99,319390.17,328730.78,551739.75,320342.98,1816146.48,729430.57,286202.84,491413.5],\"xaxis\":\"x\",\"y\":[243.0,228.0,65.0,87.0,102.0,76.0,63.0,108.0,108.0,98.0,213.0,68.0,162.0,51.0,399.0,69.0,76.0,102.0,43.0,142.0,246.0,92.0,108.0,361.0,280.0,75.0,105.0,38.0,87.0,73.0,47.0,72.0,264.0,119.0,58.0,54.0,108.0,75.0,305.0,122.0,164.0,252.0,40.0,99.0,253.0,37.0,99.0,59.0,102.0,151.0,145.0,84.0,97.0,356.0,63.0,146.0,408.0,108.0,88.0,95.0,110.0,87.0,323.0,94.0,61.0,259.0,78.0,195.0,71.0,81.0,105.0,117.0,291.0,390.0,228.0,101.0,107.0,347.0,105.0,108.0,228.0,93.0,232.0,58.0,170.0,120.0,149.0,78.0,66.0,76.0,355.0,57.0,78.0,56.0,105.0,69.0,326.0,107.0,72.0,44.0,89.0,192.0,86.0,92.0,96.0,46.0,340.0,84.0,46.0,328.0,75.0,47.0,122.0,54.0,84.0,96.0,161.0,138.0,115.0,59.0,266.0,221.0,38.0,146.0,360.0,51.0,93.0,102.0,221.0,96.0,68.0,280.0,201.0,78.0,41.0,90.0,51.0,134.0,124.0,89.0,82.0,100.0,314.0,76.0,149.0,151.0,164.0,188.0,320.0,65.0,72.0,134.0,87.0,302.0,41.0,134.0,122.0,68.0,53.0,207.0,75.0,117.0,163.0,119.0,54.0,206.0,77.0,116.0,105.0,166.0,192.0,81.0,125.0,75.0,103.0,207.0,169.0,159.0,264.0,265.0,50.0,249.0,95.0,127.0,54.0,92.0,104.0,54.0,49.0,93.0,108.0,53.0,43.0,342.0,47.0,96.0,68.0,100.0,138.0,46.0,132.0,62.0,215.0,173.0,108.0,87.0,72.0,108.0,88.0,396.0,113.0,233.0,51.0,46.0,53.0,149.0,164.0,90.0,312.0,177.0,352.0,59.0,44.0,94.0,277.0,63.0,436.0,90.0,92.0,80.0,164.0,216.0,126.0,151.0,105.0,189.0,170.0,63.0,37.0,97.0,46.0,38.0,214.0,177.0,93.0,42.0,75.0,221.0,268.0,68.0,95.0,177.0,266.0,96.0,108.0,85.0,228.0,239.0,317.0,87.0,108.0,420.0,164.0,79.0,430.0,41.0,175.0,109.0,81.0,212.0,58.0,138.0,289.0,215.0,173.0,43.0,147.0,84.0,37.0,82.0,260.0,46.0,78.0,122.0,381.0,469.0,324.0,90.0,101.0,177.0,93.0,101.0,42.0,87.0,221.0,76.0,300.0,57.0,102.0,106.0,51.0,254.0,93.0,198.0,344.0,137.0,215.0,78.0,340.0,168.0,333.0,96.0,82.0,154.0,103.0,49.0,56.0,75.0,231.0,159.0,325.0,120.0,69.0,108.0,108.0,196.0,250.0,273.0,276.0,168.0,132.0,289.0,210.0,41.0,68.0,122.0,47.0,76.0,162.0,51.0,302.0,289.0,495.0,111.0,191.0,87.0,378.0,193.0,66.0,363.0,96.0,111.0,200.0,72.0,352.0,243.0,40.0,295.0,63.0,307.0,180.0,62.0,188.0,101.0,108.0,149.0,304.0,61.0,38.0,84.0,170.0,265.0,66.0,46.0,270.0,341.0,65.0,36.0,140.0,111.0,41.0,132.0,201.0,72.0,221.0,98.0,320.0,59.0,275.0,149.0,371.0,149.0,104.0,370.0,45.0,490.0,186.0,88.0,101.0,190.0,78.0,99.0,239.0,72.0,65.0,81.0,72.0,87.0,242.0,117.0,96.0,265.0,115.0,81.0,96.0,47.0,56.0,38.0,179.0,104.0,144.0,312.0,81.0,343.0,78.0,66.0,453.0,47.0,192.0,42.0,363.0,357.0,149.0,108.0,383.0,199.0,86.0,105.0,264.0,239.0,257.0,57.0,54.0,76.0,43.0,149.0,105.0,177.0,84.0,144.0,325.0,361.0,38.0,99.0,99.0,136.0,104.0,53.0,45.0,64.0,116.0,97.0,206.0,50.0,108.0,108.0,108.0,36.0,99.0,45.0,197.0,102.0,159.0,78.0,82.0,96.0,130.0,244.0,81.0,102.0,47.0,61.0,147.0,48.0,277.0,302.0,75.0,274.0,81.0,281.0,94.0,345.0,47.0,51.0,86.0,265.0,99.0,408.0,347.0,41.0,49.0,282.0,105.0,182.0,224.0,399.0,53.0,97.0,71.0,221.0,360.0,59.0,104.0,131.0,149.0,97.0,228.0,46.0,47.0,233.0,90.0,108.0,105.0,134.0,219.0,70.0,88.0,161.0,124.0,151.0,235.0,36.0,105.0,104.0,163.0,254.0,77.0,45.0,149.0,347.0,86.0,297.0,102.0,96.0,55.0,103.0,101.0,49.0,49.0,49.0,63.0,46.0,87.0,114.0,413.0,86.0,304.0,228.0,286.0,61.0,50.0,87.0,75.0,76.0,130.0,223.0,299.0,87.0,252.0,83.0,84.0,190.0,78.0,370.0,38.0,104.0,84.0,99.0,84.0,43.0,108.0,75.0,84.0,87.0,173.0,98.0,96.0,44.0,38.0,389.0,180.0,105.0,50.0,255.0,62.0,265.0,37.0,66.0,104.0,122.0,175.0,97.0,55.0,75.0,47.0,206.0,66.0,175.0,55.0,108.0,42.0,104.0,147.0,209.0,57.0,186.0,405.0,96.0,47.0,37.0,53.0,116.0,194.0,231.0,54.0,306.0,99.0,105.0,344.0,126.0,224.0,147.0,89.0,89.0,96.0,84.0,59.0,416.0,177.0,64.0,130.0],\"yaxis\":\"y\",\"type\":\"scatter\"}],                        {\"template\":{\"data\":{\"bar\":[{\"error_x\":{\"color\":\"#2a3f5f\"},\"error_y\":{\"color\":\"#2a3f5f\"},\"marker\":{\"line\":{\"color\":\"#E5ECF6\",\"width\":0.5},\"pattern\":{\"fillmode\":\"overlay\",\"size\":10,\"solidity\":0.2}},\"type\":\"bar\"}],\"barpolar\":[{\"marker\":{\"line\":{\"color\":\"#E5ECF6\",\"width\":0.5},\"pattern\":{\"fillmode\":\"overlay\",\"size\":10,\"solidity\":0.2}},\"type\":\"barpolar\"}],\"carpet\":[{\"aaxis\":{\"endlinecolor\":\"#2a3f5f\",\"gridcolor\":\"white\",\"linecolor\":\"white\",\"minorgridcolor\":\"white\",\"startlinecolor\":\"#2a3f5f\"},\"baxis\":{\"endlinecolor\":\"#2a3f5f\",\"gridcolor\":\"white\",\"linecolor\":\"white\",\"minorgridcolor\":\"white\",\"startlinecolor\":\"#2a3f5f\"},\"type\":\"carpet\"}],\"choropleth\":[{\"colorbar\":{\"outlinewidth\":0,\"ticks\":\"\"},\"type\":\"choropleth\"}],\"contour\":[{\"colorbar\":{\"outlinewidth\":0,\"ticks\":\"\"},\"colorscale\":[[0.0,\"#0d0887\"],[0.1111111111111111,\"#46039f\"],[0.2222222222222222,\"#7201a8\"],[0.3333333333333333,\"#9c179e\"],[0.4444444444444444,\"#bd3786\"],[0.5555555555555556,\"#d8576b\"],[0.6666666666666666,\"#ed7953\"],[0.7777777777777778,\"#fb9f3a\"],[0.8888888888888888,\"#fdca26\"],[1.0,\"#f0f921\"]],\"type\":\"contour\"}],\"contourcarpet\":[{\"colorbar\":{\"outlinewidth\":0,\"ticks\":\"\"},\"type\":\"contourcarpet\"}],\"heatmap\":[{\"colorbar\":{\"outlinewidth\":0,\"ticks\":\"\"},\"colorscale\":[[0.0,\"#0d0887\"],[0.1111111111111111,\"#46039f\"],[0.2222222222222222,\"#7201a8\"],[0.3333333333333333,\"#9c179e\"],[0.4444444444444444,\"#bd3786\"],[0.5555555555555556,\"#d8576b\"],[0.6666666666666666,\"#ed7953\"],[0.7777777777777778,\"#fb9f3a\"],[0.8888888888888888,\"#fdca26\"],[1.0,\"#f0f921\"]],\"type\":\"heatmap\"}],\"heatmapgl\":[{\"colorbar\":{\"outlinewidth\":0,\"ticks\":\"\"},\"colorscale\":[[0.0,\"#0d0887\"],[0.1111111111111111,\"#46039f\"],[0.2222222222222222,\"#7201a8\"],[0.3333333333333333,\"#9c179e\"],[0.4444444444444444,\"#bd3786\"],[0.5555555555555556,\"#d8576b\"],[0.6666666666666666,\"#ed7953\"],[0.7777777777777778,\"#fb9f3a\"],[0.8888888888888888,\"#fdca26\"],[1.0,\"#f0f921\"]],\"type\":\"heatmapgl\"}],\"histogram\":[{\"marker\":{\"pattern\":{\"fillmode\":\"overlay\",\"size\":10,\"solidity\":0.2}},\"type\":\"histogram\"}],\"histogram2d\":[{\"colorbar\":{\"outlinewidth\":0,\"ticks\":\"\"},\"colorscale\":[[0.0,\"#0d0887\"],[0.1111111111111111,\"#46039f\"],[0.2222222222222222,\"#7201a8\"],[0.3333333333333333,\"#9c179e\"],[0.4444444444444444,\"#bd3786\"],[0.5555555555555556,\"#d8576b\"],[0.6666666666666666,\"#ed7953\"],[0.7777777777777778,\"#fb9f3a\"],[0.8888888888888888,\"#fdca26\"],[1.0,\"#f0f921\"]],\"type\":\"histogram2d\"}],\"histogram2dcontour\":[{\"colorbar\":{\"outlinewidth\":0,\"ticks\":\"\"},\"colorscale\":[[0.0,\"#0d0887\"],[0.1111111111111111,\"#46039f\"],[0.2222222222222222,\"#7201a8\"],[0.3333333333333333,\"#9c179e\"],[0.4444444444444444,\"#bd3786\"],[0.5555555555555556,\"#d8576b\"],[0.6666666666666666,\"#ed7953\"],[0.7777777777777778,\"#fb9f3a\"],[0.8888888888888888,\"#fdca26\"],[1.0,\"#f0f921\"]],\"type\":\"histogram2dcontour\"}],\"mesh3d\":[{\"colorbar\":{\"outlinewidth\":0,\"ticks\":\"\"},\"type\":\"mesh3d\"}],\"parcoords\":[{\"line\":{\"colorbar\":{\"outlinewidth\":0,\"ticks\":\"\"}},\"type\":\"parcoords\"}],\"pie\":[{\"automargin\":true,\"type\":\"pie\"}],\"scatter\":[{\"marker\":{\"colorbar\":{\"outlinewidth\":0,\"ticks\":\"\"}},\"type\":\"scatter\"}],\"scatter3d\":[{\"line\":{\"colorbar\":{\"outlinewidth\":0,\"ticks\":\"\"}},\"marker\":{\"colorbar\":{\"outlinewidth\":0,\"ticks\":\"\"}},\"type\":\"scatter3d\"}],\"scattercarpet\":[{\"marker\":{\"colorbar\":{\"outlinewidth\":0,\"ticks\":\"\"}},\"type\":\"scattercarpet\"}],\"scattergeo\":[{\"marker\":{\"colorbar\":{\"outlinewidth\":0,\"ticks\":\"\"}},\"type\":\"scattergeo\"}],\"scattergl\":[{\"marker\":{\"colorbar\":{\"outlinewidth\":0,\"ticks\":\"\"}},\"type\":\"scattergl\"}],\"scattermapbox\":[{\"marker\":{\"colorbar\":{\"outlinewidth\":0,\"ticks\":\"\"}},\"type\":\"scattermapbox\"}],\"scatterpolar\":[{\"marker\":{\"colorbar\":{\"outlinewidth\":0,\"ticks\":\"\"}},\"type\":\"scatterpolar\"}],\"scatterpolargl\":[{\"marker\":{\"colorbar\":{\"outlinewidth\":0,\"ticks\":\"\"}},\"type\":\"scatterpolargl\"}],\"scatterternary\":[{\"marker\":{\"colorbar\":{\"outlinewidth\":0,\"ticks\":\"\"}},\"type\":\"scatterternary\"}],\"surface\":[{\"colorbar\":{\"outlinewidth\":0,\"ticks\":\"\"},\"colorscale\":[[0.0,\"#0d0887\"],[0.1111111111111111,\"#46039f\"],[0.2222222222222222,\"#7201a8\"],[0.3333333333333333,\"#9c179e\"],[0.4444444444444444,\"#bd3786\"],[0.5555555555555556,\"#d8576b\"],[0.6666666666666666,\"#ed7953\"],[0.7777777777777778,\"#fb9f3a\"],[0.8888888888888888,\"#fdca26\"],[1.0,\"#f0f921\"]],\"type\":\"surface\"}],\"table\":[{\"cells\":{\"fill\":{\"color\":\"#EBF0F8\"},\"line\":{\"color\":\"white\"}},\"header\":{\"fill\":{\"color\":\"#C8D4E3\"},\"line\":{\"color\":\"white\"}},\"type\":\"table\"}]},\"layout\":{\"annotationdefaults\":{\"arrowcolor\":\"#2a3f5f\",\"arrowhead\":0,\"arrowwidth\":1},\"autotypenumbers\":\"strict\",\"coloraxis\":{\"colorbar\":{\"outlinewidth\":0,\"ticks\":\"\"}},\"colorscale\":{\"diverging\":[[0,\"#8e0152\"],[0.1,\"#c51b7d\"],[0.2,\"#de77ae\"],[0.3,\"#f1b6da\"],[0.4,\"#fde0ef\"],[0.5,\"#f7f7f7\"],[0.6,\"#e6f5d0\"],[0.7,\"#b8e186\"],[0.8,\"#7fbc41\"],[0.9,\"#4d9221\"],[1,\"#276419\"]],\"sequential\":[[0.0,\"#0d0887\"],[0.1111111111111111,\"#46039f\"],[0.2222222222222222,\"#7201a8\"],[0.3333333333333333,\"#9c179e\"],[0.4444444444444444,\"#bd3786\"],[0.5555555555555556,\"#d8576b\"],[0.6666666666666666,\"#ed7953\"],[0.7777777777777778,\"#fb9f3a\"],[0.8888888888888888,\"#fdca26\"],[1.0,\"#f0f921\"]],\"sequentialminus\":[[0.0,\"#0d0887\"],[0.1111111111111111,\"#46039f\"],[0.2222222222222222,\"#7201a8\"],[0.3333333333333333,\"#9c179e\"],[0.4444444444444444,\"#bd3786\"],[0.5555555555555556,\"#d8576b\"],[0.6666666666666666,\"#ed7953\"],[0.7777777777777778,\"#fb9f3a\"],[0.8888888888888888,\"#fdca26\"],[1.0,\"#f0f921\"]]},\"colorway\":[\"#636efa\",\"#EF553B\",\"#00cc96\",\"#ab63fa\",\"#FFA15A\",\"#19d3f3\",\"#FF6692\",\"#B6E880\",\"#FF97FF\",\"#FECB52\"],\"font\":{\"color\":\"#2a3f5f\"},\"geo\":{\"bgcolor\":\"white\",\"lakecolor\":\"white\",\"landcolor\":\"#E5ECF6\",\"showlakes\":true,\"showland\":true,\"subunitcolor\":\"white\"},\"hoverlabel\":{\"align\":\"left\"},\"hovermode\":\"closest\",\"mapbox\":{\"style\":\"light\"},\"paper_bgcolor\":\"white\",\"plot_bgcolor\":\"#E5ECF6\",\"polar\":{\"angularaxis\":{\"gridcolor\":\"white\",\"linecolor\":\"white\",\"ticks\":\"\"},\"bgcolor\":\"#E5ECF6\",\"radialaxis\":{\"gridcolor\":\"white\",\"linecolor\":\"white\",\"ticks\":\"\"}},\"scene\":{\"xaxis\":{\"backgroundcolor\":\"#E5ECF6\",\"gridcolor\":\"white\",\"gridwidth\":2,\"linecolor\":\"white\",\"showbackground\":true,\"ticks\":\"\",\"zerolinecolor\":\"white\"},\"yaxis\":{\"backgroundcolor\":\"#E5ECF6\",\"gridcolor\":\"white\",\"gridwidth\":2,\"linecolor\":\"white\",\"showbackground\":true,\"ticks\":\"\",\"zerolinecolor\":\"white\"},\"zaxis\":{\"backgroundcolor\":\"#E5ECF6\",\"gridcolor\":\"white\",\"gridwidth\":2,\"linecolor\":\"white\",\"showbackground\":true,\"ticks\":\"\",\"zerolinecolor\":\"white\"}},\"shapedefaults\":{\"line\":{\"color\":\"#2a3f5f\"}},\"ternary\":{\"aaxis\":{\"gridcolor\":\"white\",\"linecolor\":\"white\",\"ticks\":\"\"},\"baxis\":{\"gridcolor\":\"white\",\"linecolor\":\"white\",\"ticks\":\"\"},\"bgcolor\":\"#E5ECF6\",\"caxis\":{\"gridcolor\":\"white\",\"linecolor\":\"white\",\"ticks\":\"\"}},\"title\":{\"x\":0.05},\"xaxis\":{\"automargin\":true,\"gridcolor\":\"white\",\"linecolor\":\"white\",\"ticks\":\"\",\"title\":{\"standoff\":15},\"zerolinecolor\":\"white\",\"zerolinewidth\":2},\"yaxis\":{\"automargin\":true,\"gridcolor\":\"white\",\"linecolor\":\"white\",\"ticks\":\"\",\"title\":{\"standoff\":15},\"zerolinecolor\":\"white\",\"zerolinewidth\":2}}},\"xaxis\":{\"anchor\":\"y\",\"domain\":[0.0,1.0],\"title\":{\"text\":\"PRECO\"}},\"yaxis\":{\"anchor\":\"x\",\"domain\":[0.0,1.0],\"title\":{\"text\":\"AREA\"}},\"legend\":{\"tracegroupgap\":0},\"margin\":{\"t\":60}},                        {\"responsive\": true}                    ).then(function(){\n",
              "                            \n",
              "var gd = document.getElementById('7eb066a4-fc78-4d10-9a64-dae56b2f0a32');\n",
              "var x = new MutationObserver(function (mutations, observer) {{\n",
              "        var display = window.getComputedStyle(gd).display;\n",
              "        if (!display || display === 'none') {{\n",
              "            console.log([gd, 'removed!']);\n",
              "            Plotly.purge(gd);\n",
              "            observer.disconnect();\n",
              "        }}\n",
              "}});\n",
              "\n",
              "// Listen for the removal of the full notebook cells\n",
              "var notebookContainer = gd.closest('#notebook-container');\n",
              "if (notebookContainer) {{\n",
              "    x.observe(notebookContainer, {childList: true});\n",
              "}}\n",
              "\n",
              "// Listen for the clearing of the current output cell\n",
              "var outputEl = gd.closest('.output');\n",
              "if (outputEl) {{\n",
              "    x.observe(outputEl, {childList: true});\n",
              "}}\n",
              "\n",
              "                        })                };                            </script>        </div>\n",
              "</body>\n",
              "</html>"
            ]
          },
          "metadata": {}
        }
      ]
    },
    {
      "cell_type": "code",
      "source": [
        "px.scatter (imoveis, x, y, trendline='ols', trendline_color_override='red', hover_name=imoveis['CODIGO'])"
      ],
      "metadata": {
        "colab": {
          "base_uri": "https://localhost:8080/",
          "height": 542
        },
        "id": "uKzfzXlQXeET",
        "outputId": "a6ba24b6-16b1-4c1e-e4d9-8865db8f1fba"
      },
      "execution_count": 17,
      "outputs": [
        {
          "output_type": "display_data",
          "data": {
            "text/html": [
              "<html>\n",
              "<head><meta charset=\"utf-8\" /></head>\n",
              "<body>\n",
              "    <div>            <script src=\"https://cdnjs.cloudflare.com/ajax/libs/mathjax/2.7.5/MathJax.js?config=TeX-AMS-MML_SVG\"></script><script type=\"text/javascript\">if (window.MathJax) {MathJax.Hub.Config({SVG: {font: \"STIX-Web\"}});}</script>                <script type=\"text/javascript\">window.PlotlyConfig = {MathJaxConfig: 'local'};</script>\n",
              "        <script src=\"https://cdn.plot.ly/plotly-2.8.3.min.js\"></script>                <div id=\"26ce6249-3259-473d-bab7-da9defb0a9b6\" class=\"plotly-graph-div\" style=\"height:525px; width:100%;\"></div>            <script type=\"text/javascript\">                                    window.PLOTLYENV=window.PLOTLYENV || {};                                    if (document.getElementById(\"26ce6249-3259-473d-bab7-da9defb0a9b6\")) {                    Plotly.newPlot(                        \"26ce6249-3259-473d-bab7-da9defb0a9b6\",                        [{\"hovertemplate\":\"<b>%{hovertext}</b><br><br>PRECO=%{x}<br>AREA=%{y}<extra></extra>\",\"hovertext\":[\"AP00001\",\"AP00002\",\"AP00003\",\"AP00004\",\"AP00005\",\"AP00006\",\"AP00007\",\"AP00008\",\"AP00009\",\"AP00010\",\"AP00011\",\"AP00012\",\"AP00013\",\"AP00014\",\"AP00015\",\"AP00016\",\"AP00017\",\"AP00018\",\"AP00019\",\"AP00020\",\"AP00021\",\"AP00022\",\"AP00023\",\"AP00024\",\"AP00025\",\"AP00026\",\"AP00027\",\"AP00028\",\"AP00029\",\"AP00030\",\"AP00031\",\"AP00032\",\"AP00033\",\"AP00034\",\"AP00035\",\"AP00036\",\"AP00037\",\"AP00038\",\"AP00039\",\"AP00040\",\"AP00041\",\"AP00042\",\"AP00043\",\"AP00044\",\"AP00045\",\"AP00046\",\"AP00047\",\"AP00048\",\"AP00049\",\"AP00050\",\"AP00051\",\"AP00052\",\"AP00053\",\"AP00054\",\"AP00055\",\"AP00056\",\"AP00057\",\"AP00058\",\"AP00059\",\"AP00060\",\"AP00061\",\"AP00062\",\"AP00063\",\"AP00064\",\"AP00065\",\"AP00066\",\"AP00067\",\"AP00068\",\"AP00069\",\"AP00070\",\"AP00071\",\"AP00072\",\"AP00073\",\"AP00074\",\"AP00075\",\"AP00076\",\"AP00077\",\"AP00078\",\"AP00079\",\"AP00080\",\"AP00081\",\"AP00082\",\"AP00083\",\"AP00084\",\"AP00085\",\"AP00086\",\"AP00087\",\"AP00088\",\"AP00089\",\"AP00090\",\"AP00091\",\"AP00092\",\"AP00093\",\"AP00094\",\"AP00095\",\"AP00096\",\"AP00097\",\"AP00098\",\"AP00099\",\"AP00100\",\"AP00101\",\"AP00102\",\"AP00103\",\"AP00104\",\"AP00105\",\"AP00106\",\"AP00107\",\"AP00108\",\"AP00109\",\"AP00110\",\"AP00111\",\"AP00112\",\"AP00113\",\"AP00114\",\"AP00115\",\"AP00116\",\"AP00117\",\"AP00118\",\"AP00119\",\"AP00120\",\"AP00121\",\"AP00122\",\"AP00123\",\"AP00124\",\"AP00125\",\"AP00126\",\"AP00127\",\"AP00128\",\"AP00129\",\"AP00130\",\"AP00131\",\"AP00132\",\"AP00133\",\"AP00134\",\"AP00135\",\"AP00136\",\"AP00137\",\"AP00138\",\"AP00139\",\"AP00140\",\"AP00141\",\"AP00142\",\"AP00143\",\"AP00144\",\"AP00145\",\"AP00146\",\"AP00147\",\"AP00148\",\"AP00149\",\"AP00150\",\"AP00151\",\"AP00152\",\"AP00153\",\"AP00154\",\"AP00155\",\"AP00156\",\"AP00157\",\"AP00158\",\"AP00159\",\"AP00160\",\"AP00161\",\"AP00162\",\"AP00163\",\"AP00164\",\"AP00165\",\"AP00166\",\"AP00167\",\"AP00168\",\"AP00169\",\"AP00170\",\"AP00171\",\"AP00172\",\"AP00173\",\"AP00174\",\"AP00175\",\"AP00176\",\"AP00177\",\"AP00178\",\"AP00179\",\"AP00180\",\"AP00181\",\"AP00182\",\"AP00183\",\"AP00184\",\"AP00185\",\"AP00186\",\"AP00187\",\"AP00188\",\"AP00189\",\"AP00190\",\"AP00191\",\"AP00192\",\"AP00193\",\"AP00194\",\"AP00195\",\"AP00196\",\"AP00197\",\"AP00198\",\"AP00199\",\"AP00200\",\"AP00201\",\"AP00202\",\"AP00203\",\"AP00204\",\"AP00205\",\"AP00206\",\"AP00207\",\"AP00208\",\"AP00209\",\"AP00210\",\"AP00211\",\"AP00212\",\"AP00213\",\"AP00214\",\"AP00215\",\"AP00216\",\"AP00217\",\"AP00218\",\"AP00219\",\"AP00220\",\"AP00221\",\"AP00222\",\"AP00223\",\"AP00224\",\"AP00225\",\"AP00226\",\"AP00227\",\"AP00228\",\"AP00229\",\"AP00230\",\"AP00231\",\"AP00232\",\"AP00233\",\"AP00234\",\"AP00235\",\"AP00236\",\"AP00237\",\"AP00238\",\"AP00239\",\"AP00240\",\"AP00241\",\"AP00242\",\"AP00243\",\"AP00244\",\"AP00245\",\"AP00246\",\"AP00247\",\"AP00248\",\"AP00249\",\"AP00250\",\"AP00251\",\"AP00252\",\"AP00253\",\"AP00254\",\"AP00255\",\"AP00256\",\"AP00257\",\"AP00258\",\"AP00259\",\"AP00260\",\"AP00261\",\"AP00262\",\"AP00263\",\"AP00264\",\"AP00265\",\"AP00266\",\"AP00267\",\"AP00268\",\"AP00269\",\"AP00270\",\"AP00271\",\"AP00272\",\"AP00273\",\"AP00274\",\"AP00275\",\"AP00276\",\"AP00277\",\"AP00278\",\"AP00279\",\"AP00280\",\"AP00281\",\"AP00282\",\"AP00283\",\"AP00284\",\"AP00285\",\"AP00286\",\"AP00287\",\"AP00288\",\"AP00289\",\"AP00290\",\"AP00291\",\"AP00292\",\"AP00293\",\"AP00294\",\"AP00295\",\"AP00296\",\"AP00297\",\"AP00298\",\"AP00299\",\"AP00300\",\"AP00301\",\"AP00302\",\"AP00303\",\"AP00304\",\"AP00305\",\"AP00306\",\"AP00307\",\"AP00308\",\"AP00309\",\"AP00310\",\"AP00311\",\"AP00312\",\"AP00313\",\"AP00314\",\"AP00315\",\"AP00316\",\"AP00317\",\"AP00318\",\"AP00319\",\"AP00320\",\"AP00321\",\"AP00322\",\"AP00323\",\"AP00324\",\"AP00325\",\"AP00326\",\"AP00327\",\"AP00328\",\"AP00329\",\"AP00330\",\"AP00331\",\"AP00332\",\"AP00333\",\"AP00334\",\"AP00335\",\"AP00336\",\"AP00337\",\"AP00338\",\"AP00339\",\"AP00340\",\"AP00341\",\"AP00342\",\"AP00343\",\"AP00344\",\"AP00345\",\"AP00346\",\"AP00347\",\"AP00348\",\"AP00349\",\"AP00350\",\"AP00351\",\"AP00352\",\"AP00353\",\"AP00354\",\"AP00355\",\"AP00356\",\"AP00357\",\"AP00358\",\"AP00359\",\"AP00360\",\"AP00361\",\"AP00362\",\"AP00363\",\"AP00364\",\"AP00365\",\"AP00366\",\"AP00367\",\"AP00368\",\"AP00369\",\"AP00370\",\"AP00371\",\"AP00372\",\"AP00373\",\"AP00374\",\"AP00375\",\"AP00376\",\"AP00377\",\"AP00378\",\"AP00379\",\"AP00380\",\"AP00381\",\"AP00382\",\"AP00383\",\"AP00384\",\"AP00385\",\"AP00386\",\"AP00387\",\"AP00388\",\"AP00389\",\"AP00390\",\"AP00391\",\"AP00392\",\"AP00393\",\"AP00394\",\"AP00395\",\"AP00396\",\"AP00397\",\"AP00398\",\"AP00399\",\"AP00400\",\"AP00401\",\"AP00402\",\"AP00403\",\"AP00404\",\"AP00405\",\"AP00406\",\"AP00407\",\"AP00408\",\"AP00409\",\"AP00410\",\"AP00411\",\"AP00412\",\"AP00413\",\"AP00414\",\"AP00415\",\"AP00416\",\"AP00417\",\"AP00418\",\"AP00419\",\"AP00420\",\"AP00421\",\"AP00422\",\"AP00423\",\"AP00424\",\"AP00425\",\"AP00426\",\"AP00427\",\"AP00428\",\"AP00429\",\"AP00430\",\"AP00431\",\"AP00432\",\"AP00433\",\"AP00434\",\"AP00435\",\"AP00436\",\"AP00437\",\"AP00438\",\"AP00439\",\"AP00440\",\"AP00441\",\"AP00442\",\"AP00443\",\"AP00444\",\"AP00445\",\"AP00446\",\"AP00447\",\"AP00448\",\"AP00449\",\"AP00450\",\"AP00451\",\"AP00452\",\"AP00453\",\"AP00454\",\"AP00455\",\"AP00456\",\"AP00457\",\"AP00458\",\"AP00459\",\"AP00460\",\"AP00461\",\"AP00462\",\"AP00463\",\"AP00464\",\"AP00465\",\"AP00466\",\"AP00467\",\"AP00468\",\"AP00469\",\"AP00470\",\"AP00471\",\"AP00472\",\"AP00473\",\"AP00474\",\"AP00475\",\"AP00476\",\"AP00477\",\"AP00478\",\"AP00479\",\"AP00480\",\"AP00481\",\"AP00482\",\"AP00483\",\"AP00484\",\"AP00485\",\"AP00486\",\"AP00487\",\"AP00488\",\"AP00489\",\"AP00490\",\"AP00491\",\"AP00492\",\"AP00493\",\"AP00494\",\"AP00495\",\"AP00496\",\"AP00497\",\"AP00498\",\"AP00499\",\"AP00500\",\"AP00501\",\"AP00502\",\"AP00503\",\"AP00504\",\"AP00505\",\"AP00506\",\"AP00507\",\"AP00508\",\"AP00509\",\"AP00510\",\"AP00511\",\"AP00512\",\"AP00513\",\"AP00514\",\"AP00515\",\"AP00516\",\"AP00517\",\"AP00518\",\"AP00519\",\"AP00520\",\"AP00521\",\"AP00522\",\"AP00523\",\"AP00524\",\"AP00525\",\"AP00526\",\"AP00527\",\"AP00528\",\"AP00529\",\"AP00530\",\"AP00531\",\"AP00532\",\"AP00533\",\"AP00534\",\"AP00535\",\"AP00536\",\"AP00537\",\"AP00538\",\"AP00539\",\"AP00540\",\"AP00541\",\"AP00542\",\"AP00543\",\"AP00544\",\"AP00545\",\"AP00546\",\"AP00547\",\"AP00548\",\"AP00549\",\"AP00550\",\"AP00551\",\"AP00552\",\"AP00553\",\"AP00554\",\"AP00555\",\"AP00556\",\"AP00557\",\"AP00558\",\"AP00559\",\"AP00560\",\"AP00561\",\"AP00562\",\"AP00563\",\"AP00564\",\"AP00565\",\"AP00566\",\"AP00567\",\"AP00568\",\"AP00569\",\"AP00570\",\"AP00571\",\"AP00572\",\"AP00573\",\"AP00574\",\"AP00575\",\"AP00576\",\"AP00577\",\"AP00578\",\"AP00579\",\"AP00580\",\"AP00581\",\"AP00582\",\"AP00583\",\"AP00584\",\"AP00585\",\"AP00586\",\"AP00587\",\"AP00588\",\"AP00589\",\"AP00590\",\"AP00591\",\"AP00592\",\"AP00593\",\"AP00594\",\"AP00595\",\"AP00596\",\"AP00597\",\"AP00598\",\"AP00599\",\"AP00600\",\"AP00601\",\"AP00602\",\"AP00603\",\"AP00604\",\"AP00605\",\"AP00606\",\"AP00607\",\"AP00608\",\"AP00609\",\"AP00610\",\"AP00611\",\"AP00612\",\"AP00613\",\"AP00614\",\"AP00615\",\"AP00616\",\"AP00617\",\"AP00618\",\"AP00619\",\"AP00620\",\"AP00621\",\"AP00622\",\"AP00623\",\"AP00624\",\"AP00625\",\"AP00626\",\"AP00627\",\"AP00628\",\"AP00629\",\"AP00630\",\"AP00631\",\"AP00632\",\"AP00633\",\"AP00634\",\"AP00635\",\"AP00636\",\"AP00637\",\"AP00638\",\"AP00639\",\"AP00640\",\"AP00641\"],\"legendgroup\":\"\",\"marker\":{\"color\":\"#636efa\",\"symbol\":\"circle\"},\"mode\":\"markers\",\"name\":\"\",\"orientation\":\"v\",\"showlegend\":false,\"x\":[877478.17,829486.89,301450.09,482732.85,320310.7,532921.74,224725.8,502012.0,661220.95,484865.91,774708.2,317237.56,718963.82,274021.46,1809490.4,354346.51,251717.28,395788.13,220934.22,592374.17,1433761.77,362613.77,356815.35,2421263.05,998134.49,316290.26,602892.92,178999.97,401840.96,439854.72,232019.57,502388.86,1042101.69,432126.71,267738.82,349608.73,512475.13,364896.06,1956793.66,636556.92,677663.78,1454987.26,178103.19,471048.46,1115103.7,220945.54,394925.73,379850.35,386751.96,482929.86,666575.0,295857.97,314688.6,1305126.53,394988.08,689708.29,2325343.27,379001.84,371666.33,549177.01,504301.87,408084.92,1467109.48,321223.55,311840.95,1182177.14,400953.02,642837.31,319559.42,343415.01,350717.51,549173.66,1047242.98,1823576.1,932895.07,316699.87,516774.33,2327565.05,510815.1,512560.55,822219.36,455156.34,804318.02,439982.3,581346.42,476768.49,542339.3,438001.56,223140.92,441991.87,2043561.32,245067.02,328783.72,294484.44,267954.93,311563.75,1175965.28,370093.13,449678.06,160923.27,414990.75,745207.06,364380.79,322404.23,492948.3,195940.97,1740836.36,479995.5,228929.25,1645455.36,456920.93,205303.75,538273.78,369526.8,511721.83,492434.96,909585.58,432915.98,586920.42,398579.4,1177102.38,746009.67,276974.21,718429.36,1246083.29,310999.4,322523.13,446361.21,1278262.27,531809.57,308862.43,1220433.28,714276.55,263531.56,331539.17,388478.55,239793.03,904442.91,436717.98,370998.32,279197.96,500483.62,1378094.06,443940.0,771517.56,517208.69,603049.25,943679.12,869287.64,435037.47,365556.55,645676.58,534253.12,990204.51,206982.68,847350.23,380469.82,236056.27,330455.78,918851.9,321800.88,687256.49,559502.5,388274.91,444029.15,959889.94,398367.07,660700.29,589157.98,505356.16,1184195.81,576641.73,349309.2,451022.71,504011.89,658167.83,774712.29,664964.91,807095.72,1198370.86,181092.68,1113378.08,547750.74,424098.79,278238.02,418400.51,466940.22,383127.95,343696.09,362936.72,498850.65,349193.31,254364.07,1440641.98,293035.37,344652.8,327847.02,501501.53,480891.64,226724.53,844678.28,306209.83,835461.63,1015795.15,603416.09,533739.8,603341.61,337813.2,269237.01,2250939.65,648563.45,698726.6,363505.27,194021.94,245402.22,1000932.45,506718.54,299040.99,1983902.29,642883.0,1367553.08,259351.59,182437.08,459467.15,1557863.0,305543.27,1485622.67,630048.42,383266.23,241767.58,593253.72,1148378.43,505488.42,555091.79,360617.96,567997.1,973903.93,330152.71,166739.39,591920.0,228449.36,127866.74,964342.46,640513.11,396941.76,272709.92,448823.7,938637.97,1169450.3,280545.42,400662.52,747389.92,1191406.44,330704.16,681558.7,406754.48,718696.43,1101816.72,1677087.84,434431.2,486120.98,1505105.9,377786.54,546158.6,2128836.09,193980.14,790014.79,306631.22,267587.12,843217.34,284708.4,371400.98,1313642.58,1075227.23,463798.3,274073.6,534638.35,254214.45,233863.52,444461.66,791335.07,306301.47,527989.05,581093.85,2204044.7,2122597.91,1081178.05,377032.47,351082.39,748176.17,587844.36,355261.94,173988.25,412969.92,794448.16,362046.07,1384136.66,262359.38,472092.03,383200.78,181090.9,1083696.2,399134.97,655584.08,1478316.73,494855.12,839841.14,264019.29,1288037.94,528037.87,1582533.28,561112.1,312701.8,511271.83,443399.0,211352.89,233610.83,336526.61,835267.95,598425.52,2018106.22,633719.36,232508.74,595523.48,302992.33,583515.23,1266046.11,1290153.55,1417784.39,1238072.68,507265.92,1160710.68,980641.78,201863.31,214649.03,479091.57,243760.63,433491.14,732384.2,254361.18,1130617.37,1857972.58,2188164.41,299053.2,1095301.44,391339.7,1917015.66,974680.78,356148.39,1537970.28,478684.44,391002.84,539597.25,332369.65,1606542.13,901434.12,255950.47,1022543.02,253216.76,1938169.61,583198.0,417435.91,1215030.76,358156.74,478643.58,537081.75,1073531.52,308410.94,242783.85,434022.14,571546.61,1217394.59,315169.33,228786.99,1184634.99,1370088.27,256416.2,241255.98,360289.33,352920.94,291335.62,408712.27,676415.03,509199.17,1084215.82,309998.12,2157741.4,206777.71,1174349.53,1007957.58,1272063.76,484731.98,476078.04,1145011.23,209406.57,1979277.22,931826.53,340025.84,468922.35,1014894.53,237137.57,697205.8,1048148.37,248420.71,436487.61,357703.6,242041.5,531338.28,858620.83,349027.71,556607.17,818161.46,309118.17,725365.72,386508.37,210116.03,373941.48,202899.1,754961.02,562734.91,579106.91,1292539.93,328175.82,1672937.37,449068.18,384984.51,1657040.43,238384.25,1226013.81,250743.7,1542264.36,1330327.62,522381.68,550255.48,2246800.11,902688.44,474813.51,680297.61,1321224.95,541892.91,1172217.53,348319.33,288217.17,229890.39,184146.82,741519.2,664570.86,815290.15,420554.47,643362.93,1038977.17,1219667.96,294335.57,431369.85,426114.68,499226.26,342706.09,181347.43,227323.31,231650.41,498831.72,663612.42,933057.49,250052.93,585907.36,333642.67,545561.57,233798.53,446015.73,152141.28,1320432.14,443282.7,741182.49,575065.14,232444.73,366114.71,681774.8,1161896.9,385726.07,412192.84,261894.96,367980.48,678304.19,167836.73,1394992.97,1218153.81,402612.87,1299424.1,547827.57,980988.06,321646.26,1423405.36,230811.84,172995.23,497599.02,1074225.19,466591.55,2003490.86,975435.61,193980.14,217501.66,811718.76,309877.02,823114.06,991951.14,1673911.23,364721.13,477607.04,239262.74,1024521.28,1160699.35,277542.45,667987.42,660156.23,516320.31,450470.76,1119234.83,205273.79,306922.01,1153942.66,316350.33,477408.86,373824.05,385548.83,994703.74,321846.54,265617.12,1010912.99,648574.55,474743.63,1336890.29,130724.02,508003.73,464127.58,576296.86,881395.27,339443.69,234869.67,741519.2,1596075.72,343643.7,881444.7,412234.46,374267.72,291346.25,662234.76,445320.38,219011.77,339131.36,231592.46,264028.96,322384.12,438671.88,345787.07,2709543.36,306570.39,1299827.35,712660.21,992634.33,298526.88,234782.86,346276.96,528217.38,311782.98,638603.87,770219.45,1328789.48,387073.82,1298444.11,806738.48,414727.65,911385.23,361410.31,1177451.45,199894.04,472551.77,259265.27,460356.31,493725.93,239245.51,320241.29,377840.57,363678.32,321800.88,1174067.94,443597.07,368735.3,322252.67,160029.25,1753395.2,1218104.94,467326.49,235402.91,1030482.08,295252.31,999804.07,226555.62,449583.5,359859.61,697684.32,629410.14,298265.58,347864.15,425497.29,258352.78,1055847.84,230107.92,820422.12,253104.62,546171.04,206427.27,384760.75,792228.25,974390.99,258283.23,653607.55,1937785.61,480827.8,244708.15,170556.43,446127.9,329307.74,470096.37,1487924.32,217884.3,1319064.98,653335.07,527569.93,1593490.67,721845.98,1012840.88,677505.56,402174.99,319390.17,328730.78,551739.75,320342.98,1816146.48,729430.57,286202.84,491413.5],\"xaxis\":\"x\",\"y\":[243.0,228.0,65.0,87.0,102.0,76.0,63.0,108.0,108.0,98.0,213.0,68.0,162.0,51.0,399.0,69.0,76.0,102.0,43.0,142.0,246.0,92.0,108.0,361.0,280.0,75.0,105.0,38.0,87.0,73.0,47.0,72.0,264.0,119.0,58.0,54.0,108.0,75.0,305.0,122.0,164.0,252.0,40.0,99.0,253.0,37.0,99.0,59.0,102.0,151.0,145.0,84.0,97.0,356.0,63.0,146.0,408.0,108.0,88.0,95.0,110.0,87.0,323.0,94.0,61.0,259.0,78.0,195.0,71.0,81.0,105.0,117.0,291.0,390.0,228.0,101.0,107.0,347.0,105.0,108.0,228.0,93.0,232.0,58.0,170.0,120.0,149.0,78.0,66.0,76.0,355.0,57.0,78.0,56.0,105.0,69.0,326.0,107.0,72.0,44.0,89.0,192.0,86.0,92.0,96.0,46.0,340.0,84.0,46.0,328.0,75.0,47.0,122.0,54.0,84.0,96.0,161.0,138.0,115.0,59.0,266.0,221.0,38.0,146.0,360.0,51.0,93.0,102.0,221.0,96.0,68.0,280.0,201.0,78.0,41.0,90.0,51.0,134.0,124.0,89.0,82.0,100.0,314.0,76.0,149.0,151.0,164.0,188.0,320.0,65.0,72.0,134.0,87.0,302.0,41.0,134.0,122.0,68.0,53.0,207.0,75.0,117.0,163.0,119.0,54.0,206.0,77.0,116.0,105.0,166.0,192.0,81.0,125.0,75.0,103.0,207.0,169.0,159.0,264.0,265.0,50.0,249.0,95.0,127.0,54.0,92.0,104.0,54.0,49.0,93.0,108.0,53.0,43.0,342.0,47.0,96.0,68.0,100.0,138.0,46.0,132.0,62.0,215.0,173.0,108.0,87.0,72.0,108.0,88.0,396.0,113.0,233.0,51.0,46.0,53.0,149.0,164.0,90.0,312.0,177.0,352.0,59.0,44.0,94.0,277.0,63.0,436.0,90.0,92.0,80.0,164.0,216.0,126.0,151.0,105.0,189.0,170.0,63.0,37.0,97.0,46.0,38.0,214.0,177.0,93.0,42.0,75.0,221.0,268.0,68.0,95.0,177.0,266.0,96.0,108.0,85.0,228.0,239.0,317.0,87.0,108.0,420.0,164.0,79.0,430.0,41.0,175.0,109.0,81.0,212.0,58.0,138.0,289.0,215.0,173.0,43.0,147.0,84.0,37.0,82.0,260.0,46.0,78.0,122.0,381.0,469.0,324.0,90.0,101.0,177.0,93.0,101.0,42.0,87.0,221.0,76.0,300.0,57.0,102.0,106.0,51.0,254.0,93.0,198.0,344.0,137.0,215.0,78.0,340.0,168.0,333.0,96.0,82.0,154.0,103.0,49.0,56.0,75.0,231.0,159.0,325.0,120.0,69.0,108.0,108.0,196.0,250.0,273.0,276.0,168.0,132.0,289.0,210.0,41.0,68.0,122.0,47.0,76.0,162.0,51.0,302.0,289.0,495.0,111.0,191.0,87.0,378.0,193.0,66.0,363.0,96.0,111.0,200.0,72.0,352.0,243.0,40.0,295.0,63.0,307.0,180.0,62.0,188.0,101.0,108.0,149.0,304.0,61.0,38.0,84.0,170.0,265.0,66.0,46.0,270.0,341.0,65.0,36.0,140.0,111.0,41.0,132.0,201.0,72.0,221.0,98.0,320.0,59.0,275.0,149.0,371.0,149.0,104.0,370.0,45.0,490.0,186.0,88.0,101.0,190.0,78.0,99.0,239.0,72.0,65.0,81.0,72.0,87.0,242.0,117.0,96.0,265.0,115.0,81.0,96.0,47.0,56.0,38.0,179.0,104.0,144.0,312.0,81.0,343.0,78.0,66.0,453.0,47.0,192.0,42.0,363.0,357.0,149.0,108.0,383.0,199.0,86.0,105.0,264.0,239.0,257.0,57.0,54.0,76.0,43.0,149.0,105.0,177.0,84.0,144.0,325.0,361.0,38.0,99.0,99.0,136.0,104.0,53.0,45.0,64.0,116.0,97.0,206.0,50.0,108.0,108.0,108.0,36.0,99.0,45.0,197.0,102.0,159.0,78.0,82.0,96.0,130.0,244.0,81.0,102.0,47.0,61.0,147.0,48.0,277.0,302.0,75.0,274.0,81.0,281.0,94.0,345.0,47.0,51.0,86.0,265.0,99.0,408.0,347.0,41.0,49.0,282.0,105.0,182.0,224.0,399.0,53.0,97.0,71.0,221.0,360.0,59.0,104.0,131.0,149.0,97.0,228.0,46.0,47.0,233.0,90.0,108.0,105.0,134.0,219.0,70.0,88.0,161.0,124.0,151.0,235.0,36.0,105.0,104.0,163.0,254.0,77.0,45.0,149.0,347.0,86.0,297.0,102.0,96.0,55.0,103.0,101.0,49.0,49.0,49.0,63.0,46.0,87.0,114.0,413.0,86.0,304.0,228.0,286.0,61.0,50.0,87.0,75.0,76.0,130.0,223.0,299.0,87.0,252.0,83.0,84.0,190.0,78.0,370.0,38.0,104.0,84.0,99.0,84.0,43.0,108.0,75.0,84.0,87.0,173.0,98.0,96.0,44.0,38.0,389.0,180.0,105.0,50.0,255.0,62.0,265.0,37.0,66.0,104.0,122.0,175.0,97.0,55.0,75.0,47.0,206.0,66.0,175.0,55.0,108.0,42.0,104.0,147.0,209.0,57.0,186.0,405.0,96.0,47.0,37.0,53.0,116.0,194.0,231.0,54.0,306.0,99.0,105.0,344.0,126.0,224.0,147.0,89.0,89.0,96.0,84.0,59.0,416.0,177.0,64.0,130.0],\"yaxis\":\"y\",\"type\":\"scatter\"},{\"hovertemplate\":\"<b>OLS trendline</b><br>AREA = 0.000198105 * PRECO + 15.7759<br>R<sup>2</sup>=0.849941<br><br>PRECO=%{x}<br>AREA=%{y} <b>(trend)</b><extra></extra>\",\"legendgroup\":\"\",\"line\":{\"color\":\"red\"},\"marker\":{\"color\":\"#636efa\",\"symbol\":\"circle\"},\"mode\":\"lines\",\"name\":\"\",\"showlegend\":false,\"x\":[127866.74,130724.02,152141.28,160029.25,160923.27,166739.39,167836.73,170556.43,172995.23,173988.25,178103.19,178999.97,181090.9,181092.68,181347.43,182437.08,184146.82,193980.14,193980.14,194021.94,195940.97,199894.04,201863.31,202899.1,205273.79,205303.75,206427.27,206777.71,206982.68,209406.57,210116.03,211352.89,214649.03,217501.66,217884.3,219011.77,220934.22,220945.54,223140.92,224725.8,226555.62,226724.53,227323.31,228449.36,228786.99,228929.25,229890.39,230107.92,230811.84,231592.46,231650.41,232019.57,232444.73,232508.74,233610.83,233798.53,233863.52,234782.86,234869.67,235402.91,236056.27,237137.57,238384.25,239245.51,239262.74,239793.03,241255.98,241767.58,242041.5,242783.85,243760.63,244708.15,245067.02,245402.22,248420.71,250052.93,250743.7,251717.28,253104.62,253216.76,254214.45,254361.18,254364.07,255950.47,256416.2,258283.23,258352.78,259265.27,259351.59,261894.96,262359.38,263531.56,264019.29,264028.96,265617.12,267587.12,267738.82,267954.93,269237.01,272709.92,274021.46,274073.6,276974.21,277542.45,278238.02,279197.96,280545.42,284708.4,286202.84,288217.17,291335.62,291346.25,293035.37,294335.57,294484.44,295252.31,295857.97,298265.58,298526.88,299040.99,299053.2,301450.09,302992.33,305543.27,306209.83,306301.47,306570.39,306631.22,306922.01,308410.94,308862.43,309118.17,309877.02,309998.12,310999.4,311563.75,311782.98,311840.95,312701.8,314688.6,315169.33,316290.26,316350.33,316699.87,317237.56,319390.17,319559.42,320241.29,320310.7,320342.98,321223.55,321646.26,321800.88,321800.88,321846.54,322252.67,322384.12,322404.23,322523.13,327847.02,328175.82,328730.78,328783.72,329307.74,330152.71,330455.78,330704.16,331539.17,332369.65,333642.67,336526.61,337813.2,339131.36,339443.69,340025.84,342706.09,343415.01,343643.7,343696.09,344652.8,345787.07,346276.96,347864.15,348319.33,349027.71,349193.31,349309.2,349608.73,350717.51,351082.39,352920.94,354346.51,355261.94,356148.39,356815.35,357703.6,358156.74,359859.61,360289.33,360617.96,361410.31,362046.07,362613.77,362936.72,363505.27,363678.32,364380.79,364721.13,364896.06,365556.55,366114.71,367980.48,368735.3,369526.8,370093.13,370998.32,371400.98,371666.33,373824.05,373941.48,374267.72,377032.47,377786.54,377840.57,379001.84,379850.35,380469.82,383127.95,383200.78,383266.23,384760.75,384984.51,385548.83,385726.07,386508.37,386751.96,387073.82,388274.91,388478.55,391002.84,391339.7,394925.73,394988.08,395788.13,396941.76,398367.07,398579.4,399134.97,400662.52,400953.02,401840.96,402174.99,402612.87,406754.48,408084.92,408712.27,412192.84,412234.46,412969.92,414727.65,414990.75,417435.91,418400.51,420554.47,424098.79,425497.29,426114.68,431369.85,432126.71,432915.98,433491.14,434022.14,434431.2,435037.47,436487.61,436717.98,438001.56,438671.88,439854.72,439982.3,441991.87,443282.7,443399.0,443597.07,443940.0,444029.15,444461.66,445320.38,446015.73,446127.9,446361.21,448823.7,449068.18,449583.5,449678.06,450470.76,451022.71,455156.34,456920.93,459467.15,460356.31,463798.3,464127.58,466591.55,466940.22,467326.49,468922.35,470096.37,471048.46,472092.03,472551.77,474743.63,474813.51,476078.04,476768.49,477408.86,477607.04,478643.58,478684.44,479091.57,479995.5,480827.8,480891.64,482732.85,482929.86,484731.98,484865.91,486120.98,491413.5,492434.96,492948.3,493725.93,494855.12,497599.02,498831.72,498850.65,499226.26,500483.62,501501.53,502012.0,502388.86,504011.89,504301.87,505356.16,505488.42,506718.54,507265.92,508003.73,509199.17,510815.1,511271.83,511721.83,512475.13,512560.55,516320.31,516774.33,517208.69,522381.68,527569.93,527989.05,528037.87,528217.38,531338.28,531809.57,532921.74,533739.8,534253.12,534638.35,537081.75,538273.78,539597.25,541892.91,542339.3,545561.57,546158.6,546171.04,547750.74,547827.57,549173.66,549177.01,550255.48,551739.75,555091.79,556607.17,559502.5,561112.1,562734.91,567997.1,571546.61,575065.14,576296.86,576641.73,579106.91,581093.85,581346.42,583198.0,583515.23,585907.36,586920.42,587844.36,589157.98,591920.0,592374.17,593253.72,595523.48,598425.52,602892.92,603049.25,603341.61,603416.09,629410.14,630048.42,633719.36,636556.92,638603.87,640513.11,642837.31,642883.0,643362.93,645676.58,648563.45,648574.55,653335.07,653607.55,655584.08,658167.83,660156.23,660700.29,661220.95,662234.76,663612.42,664570.86,664964.91,666575.0,667987.42,676415.03,677505.56,677663.78,678304.19,680297.61,681558.7,681774.8,687256.49,689708.29,697205.8,697684.32,698726.6,712660.21,714276.55,718429.36,718696.43,718963.82,721845.98,725365.72,729430.57,732384.2,741182.49,741519.2,741519.2,745207.06,746009.67,747389.92,748176.17,754961.02,770219.45,771517.56,774708.2,774712.29,790014.79,791335.07,792228.25,794448.16,804318.02,806738.48,807095.72,811718.76,815290.15,818161.46,820422.12,822219.36,823114.06,829486.89,835267.95,835461.63,839841.14,843217.34,844678.28,847350.23,858620.83,869287.64,877478.17,881395.27,881444.7,901434.12,902688.44,904442.91,909585.58,911385.23,918851.9,931826.53,932895.07,933057.49,938637.97,943679.12,959889.94,964342.46,973903.93,974390.99,974680.78,975435.61,980641.78,980988.06,990204.51,991951.14,992634.33,994703.74,998134.49,999804.07,1000932.45,1007957.58,1010912.99,1012840.88,1014894.53,1015795.15,1022543.02,1024521.28,1030482.08,1038977.17,1042101.69,1047242.98,1048148.37,1055847.84,1073531.52,1074225.19,1075227.23,1081178.05,1083696.2,1084215.82,1095301.44,1101816.72,1113378.08,1115103.7,1119234.83,1130617.37,1145011.23,1148378.43,1153942.66,1160699.35,1160710.68,1161896.9,1169450.3,1172217.53,1174067.94,1174349.53,1175965.28,1177102.38,1177451.45,1182177.14,1184195.81,1184634.99,1191406.44,1198370.86,1215030.76,1217394.59,1218104.94,1218153.81,1219667.96,1220433.28,1226013.81,1238072.68,1246083.29,1266046.11,1272063.76,1278262.27,1288037.94,1290153.55,1292539.93,1298444.11,1299424.1,1299827.35,1305126.53,1313642.58,1319064.98,1320432.14,1321224.95,1328789.48,1330327.62,1336890.29,1367553.08,1370088.27,1378094.06,1384136.66,1394992.97,1417784.39,1423405.36,1433761.77,1440641.98,1454987.26,1467109.48,1478316.73,1485622.67,1487924.32,1505105.9,1537970.28,1542264.36,1557863.0,1582533.28,1593490.67,1596075.72,1606542.13,1645455.36,1657040.43,1672937.37,1673911.23,1677087.84,1740836.36,1753395.2,1809490.4,1816146.48,1823576.1,1857972.58,1917015.66,1937785.61,1938169.61,1956793.66,1979277.22,1983902.29,2003490.86,2018106.22,2043561.32,2122597.91,2128836.09,2157741.4,2188164.41,2204044.7,2246800.11,2250939.65,2325343.27,2327565.05,2421263.05,2709543.36],\"xaxis\":\"x\",\"y\":[41.10696313303271,41.67300500172694,45.91587439944442,47.478521840018686,47.65563180174802,48.80783509766229,49.02522379747222,49.564010360317894,50.047149187934195,50.24387155901813,51.05906234436806,51.23671907629759,51.65094306712412,51.65129569428221,51.701762979969956,51.917628251214865,52.25633654182036,54.204367826212646,54.204367826212646,54.21264862127347,54.59281833767518,55.3759418432046,55.766064362090916,55.97125969022635,56.44169799699695,56.447633227141026,56.67020831964696,56.73963228665936,56.7802378982292,57.260422978133604,57.40097065430248,57.64599898394226,58.29898127656945,58.86410195633944,58.93990490902071,59.163262516849386,59.54410975284698,59.54635230308834,59.9812683763097,60.295241258511,60.65773801492762,60.691199954968894,60.809821353689614,61.032897652212384,61.09978389231739,61.12796633024452,61.318373109305995,61.361466921496984,61.50091709516258,61.65556193344938,61.6670421266019,61.74017462192863,61.82440100537514,61.83708171570632,62.05541141495499,62.09259575067074,62.10547060404403,62.28759658804468,62.304794095681785,62.41043168319946,62.539865660734066,62.75407675401826,63.0010504761819,63.17167051336118,63.175083865009455,63.280137042349395,63.569954964221324,63.67130555640128,63.725570517718594,63.87263387210639,64.0661390156356,64.25384760262223,64.32494159600695,64.39134644060962,64.98932483972867,65.31267601949406,65.44952111050297,65.6423923175682,65.91723150942697,65.93944702038682,66.1370945424979,66.16616251042318,66.16673503429222,66.4810090363139,66.5732725454929,66.94314079435482,66.95691900718928,67.13768797094671,67.15478840706277,67.6586430896913,67.75064708113035,67.98286196999179,68.07948379236069,68.08139946911281,68.39602213618969,68.78628927183185,68.81634182232774,68.85915432521283,69.11314096950933,69.80114230861746,70.06096513048554,70.07129433274564,70.64592009737255,70.75849136496508,70.89628736066997,71.08645641355744,71.35339517223377,72.17810292874933,72.47415918163718,72.873208318357,73.49098930776985,73.49309516546116,73.82771852797683,74.08529483750067,74.11478675043622,74.26690574812432,74.3868901102426,74.86385003838647,74.91561491277393,75.01746274886783,75.01988161268824,75.49471785367776,75.80024353249642,76.30559787107256,76.43764683652111,76.45580119200854,76.50907562760088,76.52112636357099,76.57873335868437,76.8736980522233,76.96314054413756,77.01380395391884,77.16413604319908,77.18812657625809,77.3864852958397,77.4982859344182,77.54171652535568,77.55320068061111,77.72373949468093,78.11733479675902,78.21256988311296,78.43463188329335,78.44653205935326,78.51577773173517,78.62229688714808,79.04874000331796,79.08226929910853,79.21735125432697,79.23110173244116,79.23749656652161,79.41194201405077,79.49568303989204,79.52631405741133,79.52631405741133,79.53535953833183,79.61581598086907,79.6418569021788,79.64584079664466,79.6693954983847,80.72408549877757,80.78922247045226,80.89916290171925,80.90965058809533,81.01346164617615,81.18085455054344,81.2408942768374,81.29009963275149,81.45551940987463,81.62004177069093,81.87223358237375,82.44355693423358,82.69843703273402,82.95957131066196,83.02144549059858,83.136772400758,83.66774371563359,83.80818441502417,83.85348908063331,83.86386780917965,84.05339698244879,84.27810170526344,84.37515143474553,84.68958193983177,84.77975543973106,84.92008916234334,84.95289537435468,84.97585377960827,85.03519221368892,85.25484723635762,85.32713184166377,85.69135805599619,85.97377080754818,86.15512220043188,86.33073250621361,86.46286071372015,86.63882760876287,86.72859697416636,87.06594428242573,87.15107402533343,87.21617731913348,87.37314593077106,87.49909325775374,87.61155754856799,87.67553560514443,87.78816828533193,87.82245038067349,87.96161330187884,88.02903640692679,88.06369093994094,88.19453740715936,88.30511177489035,88.67473041126956,88.82426413681547,88.98106435907982,89.09325724584542,89.27258004204437,89.35234905972845,89.40491625995315,89.83237169341396,89.85563518059085,89.92026500309434,90.4679762027221,90.61736134940925,90.62806497039338,90.85811853212292,91.02621272870348,91.14893292287418,91.67552215194245,91.68995014965252,91.7029161313925,91.99898823269196,92.04331623993626,92.15511093536041,92.19022309125951,92.3452007461899,92.39345717845949,92.4572193004279,92.69516140903116,92.73550354075816,93.23557837722016,93.30231207636352,94.0127230694736,94.02507492526411,94.18356894651818,94.41210898493993,94.6944702291542,94.73653389459122,94.84659516999665,95.14921068423533,95.20676022885668,95.38266571130444,95.44883877288746,95.53558505377832,96.35605930334528,96.61962631245379,96.74390757516704,97.43342639968586,97.44167153582059,97.58736994575935,97.93558530227321,97.98770676592166,98.47210554226012,98.6631977651233,99.08990832323892,99.79205635075121,100.06910639602815,100.19141453149724,101.23249074632598,101.38242860636768,101.53878705415868,101.6527292093546,101.75792304134748,101.83895993195956,101.95906513821629,102.24634533318083,102.29198281543356,102.54626661744754,102.67906045824128,102.91338714794837,102.93866140234697,103.33676755857662,103.59248762289184,103.61552725125487,103.65476593732423,103.72270213469771,103.74036320837412,103.82604566463634,103.99616251474733,104.1339149273203,104.15613638143452,104.20235629281353,104.69018823131479,104.73862097716341,104.84070852048276,104.85944134299359,105.01647929143193,105.12582342621249,105.94471679672239,106.29429115453091,106.79871043682269,106.97485760754735,107.6567335355722,107.72196559771649,108.21009073183234,108.2791640527381,108.35568612709571,108.67183420378906,108.90441360611729,109.09302753361655,109.29976411978005,109.39084097914052,109.8250597222515,109.83890330978382,110.08941320878563,110.22619490614814,110.35305549784924,110.39231597548455,110.59765988247874,110.60575445870327,110.6864090063855,110.86548219010174,111.03036510228193,111.04301213473849,111.40776530875661,111.44679400337228,111.8038032472725,111.83033546934182,112.07897129367197,113.12744673566631,113.32980321707396,113.4314985122062,113.58555101610946,113.80924936478752,114.35283007214211,114.5970342843787,114.60078441477347,114.67519468828543,114.92428417339762,115.12593738154052,115.22706411490664,115.30172201984985,115.62325261333274,115.68069914327869,115.88955941659653,115.91576080307371,116.15945390403621,116.26789269830414,116.41405665533365,116.65087946986769,116.97100351682111,117.06148407969515,117.15063139494336,117.29986400066886,117.31678614215441,118.06161394210466,118.15155764003576,118.23760659081623,119.26240252482918,120.2902215433548,120.37325137172553,120.38292286490423,120.41848471948246,121.03675106650056,121.13011604028571,121.35044263939595,121.5125045343114,121.61419586734075,121.69051191234756,122.17456202363084,122.41070929962046,122.67289551586833,123.12767757302991,123.21610972870468,123.85445799427099,123.97273270898798,123.97519713699174,124.28814383454194,124.30336425283198,124.57003160745968,124.57069525969543,124.78434571541928,125.07838723898251,125.74244360921499,126.04264818383906,126.61622795330038,126.93509799468598,127.25658500503698,128.29905191798358,129.0022281111984,129.69926700702126,129.94327707621574,130.01159759757053,130.49996243891184,130.8935854757102,130.94362089218185,131.31042841655358,131.37327331170067,131.8471665722,132.04785897038968,132.23089623805728,132.49113111862698,133.03830149120887,133.12827490491173,133.30251828519297,133.75216941909915,134.3270784740834,135.21209339883862,135.24306317615586,135.30098119634687,135.31573606754617,140.46529111183,140.59173766377808,141.31896976474977,141.88110499998467,142.28661632653427,142.66484659356647,143.12528257156623,143.1343339956411,143.22941059787905,143.68775656659906,144.25966036653375,144.2618593336432,145.20494283849965,145.2589225284082,145.65048329064714,146.16233745903062,146.55624972934072,146.66403081452725,146.76717623932086,146.9680172163693,147.24093875042453,147.4308106455945,147.5088739779802,147.82784109088684,148.1076487597821,149.77720166080204,149.99324126457455,150.0245854606158,150.1514539765227,150.54636073466068,150.7961891519637,150.83899967379736,151.92495066607057,152.41066486057184,153.89596016623096,153.99075744021442,154.1972384707409,156.9575583001089,157.27776357017177,158.1004565973627,158.1533645384368,158.20633587315726,158.777306597859,159.47458520090728,160.27985289954435,160.86498219895896,162.607968715126,162.6746726984976,162.6746726984976,163.40525673852264,163.5642579089479,163.83769253532867,163.99345270558177,165.33756639860803,168.36033988616964,168.61750215594046,169.24958435577054,169.2503946058136,172.2818985871152,172.54345284795053,172.72039640135807,173.1601719937862,175.11544204017665,175.5949476194337,175.66571870143207,176.5815667109545,177.28907744474182,177.85789872862034,178.30574710570704,178.6617895964997,178.83903426972765,180.10152468091263,181.24678241044333,181.28515141492616,182.15275487848768,182.82159746902323,183.11101719955374,183.64034424172584,185.873108088918,187.98625803061302,189.60884416385727,190.3848418273212,190.39463416463832,194.35464111212468,194.6031283575961,194.95069789133728,195.96948727735395,196.32600720154605,197.8051929445335,200.37553390195322,200.58721717358725,200.6193934112375,201.7249152107849,202.7235929624816,205.935039809086,206.81710692928365,208.7112833300088,208.80777242193054,208.86518131189894,209.01471701849627,210.0460860812202,210.11468593082944,211.94051209442802,212.28652848383243,212.42187193784224,212.83183270594847,213.51148193214357,213.842234320126,214.0657722036366,215.4574866009025,216.0429685274752,216.42489345546159,216.83173208648267,217.010149542169,218.34693730693328,218.73884079107313,219.9197059393654,221.60262697556965,222.22161046321258,223.2401264641292,223.41948888135715,224.94479350209969,228.4480214925629,228.58544108849227,228.7839503679841,229.96283842692932,230.46169689780103,230.5646362932439,232.76075465071466,234.05146513980435,236.34183003895555,236.68368423926356,237.502082346911,239.75702208403402,242.60851980638643,243.27557945061702,244.37788204155822,245.7164170937014,245.71866162499418,245.95365791009135,247.45002531230432,247.99822781269168,248.36480355404373,248.4205879818232,248.7406763698505,248.96594173022544,249.03509429318922,249.97127779584545,250.3711867088946,250.45819052647394,251.79964961055725,253.17933704447046,256.47974894958963,256.9480358344856,257.0887598242335,257.09844122266946,257.3984021279652,257.55001595753356,258.6555476623382,261.04447185217634,262.63141490773296,266.5861522583624,267.7782796841477,269.006236406457,270.9428469292402,271.36196015504527,271.83471431096086,273.00436274594347,273.1985038069881,273.2783897067078,274.32818452896777,276.01525784901116,277.0894631872375,277.3603046172703,277.51736435727463,279.01593666975134,279.32065011747557,280.6207488093866,286.6952052683191,287.19743945086157,288.7834276396193,289.9804977887722,292.13118865544396,296.6462862192092,297.7598292960775,299.8114874007657,301.1744924004188,304.0163661748273,306.417840325601,308.63805421185765,310.08539851488985,310.54136722186996,313.94512661903065,320.455729384135,321.30640872515954,324.39657956410025,329.2838889605927,331.4546042953206,331.9667160003926,334.04016567103037,341.74907674244395,344.04413871458297,347.193404318276,347.3863309947818,348.0156337794277,360.6445435773094,363.1325143964912,374.24526212607196,375.56386581957713,377.0357117669425,383.8498314246952,395.54656934910685,399.66120330541696,399.7372756810954,403.42679580675855,407.8809047205853,408.797154883552,412.67775138366676,415.57312939563576,420.615915672024,436.2734707939651,437.5092863473763,443.23557697608123,449.2625317833467,452.40849893637557,460.87856563378983,461.6986298057066,476.4383697340355,476.8785157830847,495.4405716589219,552.5503842709699],\"yaxis\":\"y\",\"type\":\"scatter\"}],                        {\"template\":{\"data\":{\"bar\":[{\"error_x\":{\"color\":\"#2a3f5f\"},\"error_y\":{\"color\":\"#2a3f5f\"},\"marker\":{\"line\":{\"color\":\"#E5ECF6\",\"width\":0.5},\"pattern\":{\"fillmode\":\"overlay\",\"size\":10,\"solidity\":0.2}},\"type\":\"bar\"}],\"barpolar\":[{\"marker\":{\"line\":{\"color\":\"#E5ECF6\",\"width\":0.5},\"pattern\":{\"fillmode\":\"overlay\",\"size\":10,\"solidity\":0.2}},\"type\":\"barpolar\"}],\"carpet\":[{\"aaxis\":{\"endlinecolor\":\"#2a3f5f\",\"gridcolor\":\"white\",\"linecolor\":\"white\",\"minorgridcolor\":\"white\",\"startlinecolor\":\"#2a3f5f\"},\"baxis\":{\"endlinecolor\":\"#2a3f5f\",\"gridcolor\":\"white\",\"linecolor\":\"white\",\"minorgridcolor\":\"white\",\"startlinecolor\":\"#2a3f5f\"},\"type\":\"carpet\"}],\"choropleth\":[{\"colorbar\":{\"outlinewidth\":0,\"ticks\":\"\"},\"type\":\"choropleth\"}],\"contour\":[{\"colorbar\":{\"outlinewidth\":0,\"ticks\":\"\"},\"colorscale\":[[0.0,\"#0d0887\"],[0.1111111111111111,\"#46039f\"],[0.2222222222222222,\"#7201a8\"],[0.3333333333333333,\"#9c179e\"],[0.4444444444444444,\"#bd3786\"],[0.5555555555555556,\"#d8576b\"],[0.6666666666666666,\"#ed7953\"],[0.7777777777777778,\"#fb9f3a\"],[0.8888888888888888,\"#fdca26\"],[1.0,\"#f0f921\"]],\"type\":\"contour\"}],\"contourcarpet\":[{\"colorbar\":{\"outlinewidth\":0,\"ticks\":\"\"},\"type\":\"contourcarpet\"}],\"heatmap\":[{\"colorbar\":{\"outlinewidth\":0,\"ticks\":\"\"},\"colorscale\":[[0.0,\"#0d0887\"],[0.1111111111111111,\"#46039f\"],[0.2222222222222222,\"#7201a8\"],[0.3333333333333333,\"#9c179e\"],[0.4444444444444444,\"#bd3786\"],[0.5555555555555556,\"#d8576b\"],[0.6666666666666666,\"#ed7953\"],[0.7777777777777778,\"#fb9f3a\"],[0.8888888888888888,\"#fdca26\"],[1.0,\"#f0f921\"]],\"type\":\"heatmap\"}],\"heatmapgl\":[{\"colorbar\":{\"outlinewidth\":0,\"ticks\":\"\"},\"colorscale\":[[0.0,\"#0d0887\"],[0.1111111111111111,\"#46039f\"],[0.2222222222222222,\"#7201a8\"],[0.3333333333333333,\"#9c179e\"],[0.4444444444444444,\"#bd3786\"],[0.5555555555555556,\"#d8576b\"],[0.6666666666666666,\"#ed7953\"],[0.7777777777777778,\"#fb9f3a\"],[0.8888888888888888,\"#fdca26\"],[1.0,\"#f0f921\"]],\"type\":\"heatmapgl\"}],\"histogram\":[{\"marker\":{\"pattern\":{\"fillmode\":\"overlay\",\"size\":10,\"solidity\":0.2}},\"type\":\"histogram\"}],\"histogram2d\":[{\"colorbar\":{\"outlinewidth\":0,\"ticks\":\"\"},\"colorscale\":[[0.0,\"#0d0887\"],[0.1111111111111111,\"#46039f\"],[0.2222222222222222,\"#7201a8\"],[0.3333333333333333,\"#9c179e\"],[0.4444444444444444,\"#bd3786\"],[0.5555555555555556,\"#d8576b\"],[0.6666666666666666,\"#ed7953\"],[0.7777777777777778,\"#fb9f3a\"],[0.8888888888888888,\"#fdca26\"],[1.0,\"#f0f921\"]],\"type\":\"histogram2d\"}],\"histogram2dcontour\":[{\"colorbar\":{\"outlinewidth\":0,\"ticks\":\"\"},\"colorscale\":[[0.0,\"#0d0887\"],[0.1111111111111111,\"#46039f\"],[0.2222222222222222,\"#7201a8\"],[0.3333333333333333,\"#9c179e\"],[0.4444444444444444,\"#bd3786\"],[0.5555555555555556,\"#d8576b\"],[0.6666666666666666,\"#ed7953\"],[0.7777777777777778,\"#fb9f3a\"],[0.8888888888888888,\"#fdca26\"],[1.0,\"#f0f921\"]],\"type\":\"histogram2dcontour\"}],\"mesh3d\":[{\"colorbar\":{\"outlinewidth\":0,\"ticks\":\"\"},\"type\":\"mesh3d\"}],\"parcoords\":[{\"line\":{\"colorbar\":{\"outlinewidth\":0,\"ticks\":\"\"}},\"type\":\"parcoords\"}],\"pie\":[{\"automargin\":true,\"type\":\"pie\"}],\"scatter\":[{\"marker\":{\"colorbar\":{\"outlinewidth\":0,\"ticks\":\"\"}},\"type\":\"scatter\"}],\"scatter3d\":[{\"line\":{\"colorbar\":{\"outlinewidth\":0,\"ticks\":\"\"}},\"marker\":{\"colorbar\":{\"outlinewidth\":0,\"ticks\":\"\"}},\"type\":\"scatter3d\"}],\"scattercarpet\":[{\"marker\":{\"colorbar\":{\"outlinewidth\":0,\"ticks\":\"\"}},\"type\":\"scattercarpet\"}],\"scattergeo\":[{\"marker\":{\"colorbar\":{\"outlinewidth\":0,\"ticks\":\"\"}},\"type\":\"scattergeo\"}],\"scattergl\":[{\"marker\":{\"colorbar\":{\"outlinewidth\":0,\"ticks\":\"\"}},\"type\":\"scattergl\"}],\"scattermapbox\":[{\"marker\":{\"colorbar\":{\"outlinewidth\":0,\"ticks\":\"\"}},\"type\":\"scattermapbox\"}],\"scatterpolar\":[{\"marker\":{\"colorbar\":{\"outlinewidth\":0,\"ticks\":\"\"}},\"type\":\"scatterpolar\"}],\"scatterpolargl\":[{\"marker\":{\"colorbar\":{\"outlinewidth\":0,\"ticks\":\"\"}},\"type\":\"scatterpolargl\"}],\"scatterternary\":[{\"marker\":{\"colorbar\":{\"outlinewidth\":0,\"ticks\":\"\"}},\"type\":\"scatterternary\"}],\"surface\":[{\"colorbar\":{\"outlinewidth\":0,\"ticks\":\"\"},\"colorscale\":[[0.0,\"#0d0887\"],[0.1111111111111111,\"#46039f\"],[0.2222222222222222,\"#7201a8\"],[0.3333333333333333,\"#9c179e\"],[0.4444444444444444,\"#bd3786\"],[0.5555555555555556,\"#d8576b\"],[0.6666666666666666,\"#ed7953\"],[0.7777777777777778,\"#fb9f3a\"],[0.8888888888888888,\"#fdca26\"],[1.0,\"#f0f921\"]],\"type\":\"surface\"}],\"table\":[{\"cells\":{\"fill\":{\"color\":\"#EBF0F8\"},\"line\":{\"color\":\"white\"}},\"header\":{\"fill\":{\"color\":\"#C8D4E3\"},\"line\":{\"color\":\"white\"}},\"type\":\"table\"}]},\"layout\":{\"annotationdefaults\":{\"arrowcolor\":\"#2a3f5f\",\"arrowhead\":0,\"arrowwidth\":1},\"autotypenumbers\":\"strict\",\"coloraxis\":{\"colorbar\":{\"outlinewidth\":0,\"ticks\":\"\"}},\"colorscale\":{\"diverging\":[[0,\"#8e0152\"],[0.1,\"#c51b7d\"],[0.2,\"#de77ae\"],[0.3,\"#f1b6da\"],[0.4,\"#fde0ef\"],[0.5,\"#f7f7f7\"],[0.6,\"#e6f5d0\"],[0.7,\"#b8e186\"],[0.8,\"#7fbc41\"],[0.9,\"#4d9221\"],[1,\"#276419\"]],\"sequential\":[[0.0,\"#0d0887\"],[0.1111111111111111,\"#46039f\"],[0.2222222222222222,\"#7201a8\"],[0.3333333333333333,\"#9c179e\"],[0.4444444444444444,\"#bd3786\"],[0.5555555555555556,\"#d8576b\"],[0.6666666666666666,\"#ed7953\"],[0.7777777777777778,\"#fb9f3a\"],[0.8888888888888888,\"#fdca26\"],[1.0,\"#f0f921\"]],\"sequentialminus\":[[0.0,\"#0d0887\"],[0.1111111111111111,\"#46039f\"],[0.2222222222222222,\"#7201a8\"],[0.3333333333333333,\"#9c179e\"],[0.4444444444444444,\"#bd3786\"],[0.5555555555555556,\"#d8576b\"],[0.6666666666666666,\"#ed7953\"],[0.7777777777777778,\"#fb9f3a\"],[0.8888888888888888,\"#fdca26\"],[1.0,\"#f0f921\"]]},\"colorway\":[\"#636efa\",\"#EF553B\",\"#00cc96\",\"#ab63fa\",\"#FFA15A\",\"#19d3f3\",\"#FF6692\",\"#B6E880\",\"#FF97FF\",\"#FECB52\"],\"font\":{\"color\":\"#2a3f5f\"},\"geo\":{\"bgcolor\":\"white\",\"lakecolor\":\"white\",\"landcolor\":\"#E5ECF6\",\"showlakes\":true,\"showland\":true,\"subunitcolor\":\"white\"},\"hoverlabel\":{\"align\":\"left\"},\"hovermode\":\"closest\",\"mapbox\":{\"style\":\"light\"},\"paper_bgcolor\":\"white\",\"plot_bgcolor\":\"#E5ECF6\",\"polar\":{\"angularaxis\":{\"gridcolor\":\"white\",\"linecolor\":\"white\",\"ticks\":\"\"},\"bgcolor\":\"#E5ECF6\",\"radialaxis\":{\"gridcolor\":\"white\",\"linecolor\":\"white\",\"ticks\":\"\"}},\"scene\":{\"xaxis\":{\"backgroundcolor\":\"#E5ECF6\",\"gridcolor\":\"white\",\"gridwidth\":2,\"linecolor\":\"white\",\"showbackground\":true,\"ticks\":\"\",\"zerolinecolor\":\"white\"},\"yaxis\":{\"backgroundcolor\":\"#E5ECF6\",\"gridcolor\":\"white\",\"gridwidth\":2,\"linecolor\":\"white\",\"showbackground\":true,\"ticks\":\"\",\"zerolinecolor\":\"white\"},\"zaxis\":{\"backgroundcolor\":\"#E5ECF6\",\"gridcolor\":\"white\",\"gridwidth\":2,\"linecolor\":\"white\",\"showbackground\":true,\"ticks\":\"\",\"zerolinecolor\":\"white\"}},\"shapedefaults\":{\"line\":{\"color\":\"#2a3f5f\"}},\"ternary\":{\"aaxis\":{\"gridcolor\":\"white\",\"linecolor\":\"white\",\"ticks\":\"\"},\"baxis\":{\"gridcolor\":\"white\",\"linecolor\":\"white\",\"ticks\":\"\"},\"bgcolor\":\"#E5ECF6\",\"caxis\":{\"gridcolor\":\"white\",\"linecolor\":\"white\",\"ticks\":\"\"}},\"title\":{\"x\":0.05},\"xaxis\":{\"automargin\":true,\"gridcolor\":\"white\",\"linecolor\":\"white\",\"ticks\":\"\",\"title\":{\"standoff\":15},\"zerolinecolor\":\"white\",\"zerolinewidth\":2},\"yaxis\":{\"automargin\":true,\"gridcolor\":\"white\",\"linecolor\":\"white\",\"ticks\":\"\",\"title\":{\"standoff\":15},\"zerolinecolor\":\"white\",\"zerolinewidth\":2}}},\"xaxis\":{\"anchor\":\"y\",\"domain\":[0.0,1.0],\"title\":{\"text\":\"PRECO\"}},\"yaxis\":{\"anchor\":\"x\",\"domain\":[0.0,1.0],\"title\":{\"text\":\"AREA\"}},\"legend\":{\"tracegroupgap\":0},\"margin\":{\"t\":60}},                        {\"responsive\": true}                    ).then(function(){\n",
              "                            \n",
              "var gd = document.getElementById('26ce6249-3259-473d-bab7-da9defb0a9b6');\n",
              "var x = new MutationObserver(function (mutations, observer) {{\n",
              "        var display = window.getComputedStyle(gd).display;\n",
              "        if (!display || display === 'none') {{\n",
              "            console.log([gd, 'removed!']);\n",
              "            Plotly.purge(gd);\n",
              "            observer.disconnect();\n",
              "        }}\n",
              "}});\n",
              "\n",
              "// Listen for the removal of the full notebook cells\n",
              "var notebookContainer = gd.closest('#notebook-container');\n",
              "if (notebookContainer) {{\n",
              "    x.observe(notebookContainer, {childList: true});\n",
              "}}\n",
              "\n",
              "// Listen for the clearing of the current output cell\n",
              "var outputEl = gd.closest('.output');\n",
              "if (outputEl) {{\n",
              "    x.observe(outputEl, {childList: true});\n",
              "}}\n",
              "\n",
              "                        })                };                            </script>        </div>\n",
              "</body>\n",
              "</html>"
            ]
          },
          "metadata": {}
        }
      ]
    },
    {
      "cell_type": "code",
      "source": [],
      "metadata": {
        "id": "FQ4MMUPwYQ7q"
      },
      "execution_count": null,
      "outputs": []
    }
  ]
}